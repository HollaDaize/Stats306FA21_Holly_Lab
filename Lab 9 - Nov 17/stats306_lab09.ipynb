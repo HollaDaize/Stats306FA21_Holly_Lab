{
 "cells": [
  {
   "cell_type": "markdown",
   "metadata": {
    "id": "POSnPhki4LTA"
   },
   "source": [
    "# Lab 9: Functions and Vectors\n"
   ]
  },
  {
   "cell_type": "markdown",
   "metadata": {
    "id": "Xc-VQQh34LTG"
   },
   "source": [
    "## Load Packages"
   ]
  },
  {
   "cell_type": "code",
   "execution_count": null,
   "metadata": {
    "colab": {
     "base_uri": "https://localhost:8080/"
    },
    "id": "XIvQ8mIm4LTH",
    "outputId": "5eb2f13a-30d6-406e-c5d1-ef79fce0c7f8",
    "scrolled": false
   },
   "outputs": [
    {
     "name": "stderr",
     "output_type": "stream",
     "text": [
      "Warning message in system(\"timedatectl\", intern = TRUE):\n",
      "“running command 'timedatectl' had status 1”\n",
      "── \u001b[1mAttaching packages\u001b[22m ─────────────────────────────────────── tidyverse 1.3.0 ──\n",
      "\n",
      "\u001b[32m✔\u001b[39m \u001b[34mggplot2\u001b[39m 3.3.3     \u001b[32m✔\u001b[39m \u001b[34mpurrr  \u001b[39m 0.3.4\n",
      "\u001b[32m✔\u001b[39m \u001b[34mtibble \u001b[39m 3.1.0     \u001b[32m✔\u001b[39m \u001b[34mdplyr  \u001b[39m 1.0.5\n",
      "\u001b[32m✔\u001b[39m \u001b[34mtidyr  \u001b[39m 1.1.3     \u001b[32m✔\u001b[39m \u001b[34mstringr\u001b[39m 1.4.0\n",
      "\u001b[32m✔\u001b[39m \u001b[34mreadr  \u001b[39m 1.4.0     \u001b[32m✔\u001b[39m \u001b[34mforcats\u001b[39m 0.5.1\n",
      "\n",
      "── \u001b[1mConflicts\u001b[22m ────────────────────────────────────────── tidyverse_conflicts() ──\n",
      "\u001b[31m✖\u001b[39m \u001b[34mdplyr\u001b[39m::\u001b[32mfilter()\u001b[39m masks \u001b[34mstats\u001b[39m::filter()\n",
      "\u001b[31m✖\u001b[39m \u001b[34mdplyr\u001b[39m::\u001b[32mlag()\u001b[39m    masks \u001b[34mstats\u001b[39m::lag()\n",
      "\n"
     ]
    }
   ],
   "source": [
    "library(tidyverse)"
   ]
  },
  {
   "cell_type": "markdown",
   "metadata": {
    "id": "WYjcIAHfry5C"
   },
   "source": [
    "# Functions\n",
    "\n",
    "**REMEMBER: DRY KISS**\n",
    "\n",
    "(Don't Repeat Yourself and Keep It Stupidly Simple!)\n",
    "\n",
    "Advantages of functions:\n",
    "*   Automate common tasks\n",
    "*   Helps make your code easier to understand\n",
    "*   Reduces repricated code- makes it easier to debug and update\n",
    "*   Eliminate copy and pasting mistakes - if you ever need to copy and paste more than 2 times, write a function.\n",
    "\n",
    "Functions are an integral part of most coding languages, and it is a learning process. You do not have to start off by writing perfect functions.\n",
    "\n",
    "Tips for writing functions: PRACTICE GOOD STYLE. It may seem frusterating and slow, but makes it so much easier to read and debug-fix code and to update as needed.\n",
    "\n",
    "Comments and functions are best friends!"
   ]
  },
  {
   "cell_type": "code",
   "execution_count": null,
   "metadata": {
    "id": "cws9GM8TQEG2"
   },
   "outputs": [],
   "source": [
    "hello_world <- function() {\n",
    "    print(\"hello\")\n",
    "}"
   ]
  },
  {
   "cell_type": "code",
   "execution_count": null,
   "metadata": {
    "colab": {
     "base_uri": "https://localhost:8080/"
    },
    "id": "5m4JIozk0fvK",
    "outputId": "0e1eff60-bf08-4835-a2de-d55f55a973ed"
   },
   "outputs": [
    {
     "name": "stdout",
     "output_type": "stream",
     "text": [
      "[1] \"hello\"\n"
     ]
    }
   ],
   "source": [
    "hello_world()"
   ]
  },
  {
   "cell_type": "code",
   "execution_count": null,
   "metadata": {
    "id": "Bp3j0a0XvzQk"
   },
   "outputs": [],
   "source": [
    "nums <- c(\"zero\",\"one\", \"two\", \"three\", \"four\", \"five\", \"six\", \"seven\", \n",
    "          \"eight\", \"nine\", \"ten\", \"eleven\", \"twelve\") %>% \n",
    "          str_c(collapse = \"\\\\b|\\\\b\")\n",
    "numbers <- c(\"\\\\bone\\\\b\" = \"1\", \"\\\\btwo\\\\b\" = \"2\", \"\\\\bthree\\\\b\" = \"3\", \n",
    "             \"\\\\bfour\\\\b\" = \"4\", \"\\\\bfive\\\\b\" = \"5\", \"\\\\bsix\\\\b\" = \"6\", \n",
    "             \"\\\\bseven\\\\b\" = \"7\", \"\\\\beight\\\\b\" = \"8\", \"\\\\bnine\\\\b\" = \"9\", \n",
    "             \"\\\\bten\\\\b\" = \"10\", \"\\\\beleven\\\\b\" = \"11\", \"\\\\btwelve\\\\b\" = \"12\")"
   ]
  },
  {
   "cell_type": "code",
   "execution_count": null,
   "metadata": {
    "id": "Rzoa9CUNs65C"
   },
   "outputs": [],
   "source": [
    "###which is easier to read? They are litterally all the same steps\n",
    "\n",
    "s1 <- tibble(sentences = sentences) %>% mutate(lower = str_to_lower(sentences)) %>% mutate(number = str_extract(lower, nums)) %>% arrange(number) %>% filter (!is.na(number)) %>% mutate(lower = str_replace_all(.$lower, numbers)) %>% mutate(lower = str_to_sentence(.$lower)) %>% .$lower \n",
    "\n",
    "s1 <- tibble(sentences = sentences) %>% mutate(lower = str_to_lower(\n",
    "  sentences)) %>% mutate(number = str_extract(lower, nums)) %>% arrange(\n",
    "    number) %>% filter (!is.na(number)) %>% mutate(lower = str_replace_all(\n",
    "  .$lower, numbers)) %>% mutate(lower = str_to_sentence(.$lower)) %>% .$lower \n",
    "\n",
    "s1 <- tibble(sentences = sentences) %>%\n",
    "    mutate(lower = str_to_lower(sentences)) %>%\n",
    "    mutate(number = str_extract(lower, nums)) %>% \n",
    "    arrange(number) %>% \n",
    "    filter (!is.na(number)) %>%\n",
    "    mutate(lower = str_replace_all(.$lower, numbers))  %>% \n",
    "    mutate(lower = str_to_sentence(.$lower)) %>% \n",
    "    .$lower\n",
    "\n",
    "s1 <- tibble(sentences = sentences) %>%\n",
    "    mutate(lower = str_to_lower(sentences)) %>%\n",
    "    mutate(number = str_extract(\n",
    "      lower, \n",
    "      nums)) %>% \n",
    "    arrange(number) %>% \n",
    "    filter (!is.na(number)) %>%\n",
    "    mutate(lower = str_replace_all(\n",
    "      .$lower, \n",
    "      numbers))  %>% \n",
    "    mutate(lower = str_to_sentence(.$lower)) %>% \n",
    "    .$lower \n",
    "\n",
    "s1 <-tibble(\n",
    "      sentences = sentences\n",
    "    ) %>%\n",
    "    mutate(\n",
    "      lower = str_to_lower(\n",
    "        sentences\n",
    "      )\n",
    "    ) %>%\n",
    "    mutate(\n",
    "      number = str_extract(\n",
    "          lower, \n",
    "          nums\n",
    "      )\n",
    "    ) %>% \n",
    "    arrange(\n",
    "      number\n",
    "    ) %>% \n",
    "    filter (\n",
    "      !is.na(\n",
    "        number\n",
    "      )\n",
    "    ) %>%\n",
    "    mutate(\n",
    "      lower = str_replace_all(\n",
    "        .$lower, \n",
    "        numbers\n",
    "      )\n",
    "    )  %>% \n",
    "    mutate(\n",
    "      lower = str_to_sentence(\n",
    "        .$lower\n",
    "      )\n",
    "    ) %>% \n",
    "    .$lower"
   ]
  },
  {
   "cell_type": "markdown",
   "metadata": {
    "id": "jsMSuK196bO7"
   },
   "source": [
    "**Function Forms:**\n",
    "\n",
    "    name <- function(inputArgs) {\n",
    "       function body\n",
    "    } "
   ]
  },
  {
   "cell_type": "markdown",
   "metadata": {
    "id": "dkLU-3nBxgQi"
   },
   "source": [
    "## Steps to writing basic functions:\n",
    "\n",
    "**1) Analyze inputs:**\n",
    "How many inputs will the function have?"
   ]
  },
  {
   "cell_type": "code",
   "execution_count": null,
   "metadata": {
    "id": "z6ivW3q4x8kd"
   },
   "outputs": [],
   "source": [
    "# fahrenheit to celsius\n",
    "# 1 input\n",
    "temp_C <- (temp_F - 32) * 5 / 9 \n",
    "\n",
    "#integer division\n",
    "# 2 inputs\n",
    "out <- floor(in_a / in_b) \n",
    "\n",
    "#pythagorean theorem\n",
    "# 2 inputs\n",
    "c <- sqrt(a * a + b * b)\n",
    "\n",
    "#change the range of a vector from 0 to 1\n",
    "# 1 input\n",
    "df$d2 <- (df$d - min(df$d, na.rm = TRUE)) / \n",
    "  (max(df$d, na.rm = TRUE) - min(df$d, na.rm = TRUE))"
   ]
  },
  {
   "cell_type": "markdown",
   "metadata": {
    "id": "OvNNjIHyzzRR"
   },
   "source": [
    "**2) Simplify:** -Pull out intermediate steps, label to make it more clear and easy to follow. Simplify variables too if it makes sense to you. "
   ]
  },
  {
   "cell_type": "code",
   "execution_count": null,
   "metadata": {
    "id": "LXvT1Tpm0DVT"
   },
   "outputs": [],
   "source": [
    "# fahrenheit to celsius\n",
    "F <- temp_F\n",
    "temp_C <- (F - 32) * 5 / 9 \n",
    "\n",
    "#integer division\n",
    "#out <- floor(in_a / in_b) \n",
    "a <- in_a\n",
    "b <- in_b\n",
    "div = a / b\n",
    "floor(div)\n",
    "\n",
    "#pythagorean theorem\n",
    "#c <- sqrt(a * a + b * b)\n",
    "aSq <- a * a\n",
    "bSq <- b * b\n",
    "sqrt(aSq + bSq)\n",
    "\n",
    "#change the range of a vector from 0 to 1\n",
    "# 1 input\n",
    "#df$d2 <- (df$d - min(df$d, na.rm = TRUE)) / \n",
    "#  (max(df$d, na.rm = TRUE) - min(df$d, na.rm = TRUE))\n",
    "x <- df$d\n",
    "rge <- range(x, na.rm = TRUE)\n",
    "(x - rng[1]) / (rng[2] - rng[1])"
   ]
  },
  {
   "cell_type": "markdown",
   "metadata": {
    "id": "Ay0GT7Kn1oRC"
   },
   "source": [
    "**3) Write a Descriptive Name** then put it into a function. Generally, function names should be verbs, and arguments should be nouns.  Why? Because functions generally DO SOMTHING. There are some exceptions: nouns are ok if the function computes a very well known noun, or accessing some property of an object. A good sign that a noun might be a better choice is if you’re using a very broad verb like “get”, “compute”, “calculate”, or “determine”. "
   ]
  },
  {
   "cell_type": "markdown",
   "metadata": {
    "id": "U1NnNhzy_DNz"
   },
   "source": [
    "Good variable names:\n",
    "*   Are consistent- cases, etc\n",
    "*   Are clear\n",
    "*   Similar functions similar names"
   ]
  },
  {
   "cell_type": "code",
   "execution_count": null,
   "metadata": {
    "id": "dCEb7HAT1y77"
   },
   "outputs": [],
   "source": [
    "# fahrenheit to celsius\n",
    "fahr_to_cel <-  function(F) {\n",
    "  (F - 32) * 5 / 9 \n",
    "}\n",
    "\n",
    "#integer division\n",
    "int_Division <- function(a, b) {\n",
    "  #division\n",
    "  div = a / b\n",
    "  #change to int\n",
    "  floor(div)\n",
    "}\n",
    "\n",
    "#pythagorean theorem\n",
    "pythag_theorem <- function(a, b) {\n",
    "  #Find a^2 and b^2\n",
    "  aSq <- a * a\n",
    "  bSq <- b * b\n",
    "  #Calc Square Root of Sum\n",
    "  sqrt(aSq + bSq)\n",
    "}\n",
    "\n",
    "#change the range of a vector from 0 to 1\n",
    "# 1 input\n",
    "rescale01 <- function(x) {\n",
    "  #find range of vector\n",
    "  rng <- range(x, na.rm = TRUE)\n",
    "  #function\n",
    "  (x - rng[1]) / (rng[2] - rng[1])\n",
    "}"
   ]
  },
  {
   "cell_type": "markdown",
   "metadata": {
    "id": "UECJrB6Q37gb"
   },
   "source": [
    "**4) Check that it works**"
   ]
  },
  {
   "cell_type": "code",
   "execution_count": null,
   "metadata": {
    "colab": {
     "base_uri": "https://localhost:8080/",
     "height": 251
    },
    "id": "l-S6Ywoe2-1M",
    "outputId": "a630f8c8-422f-4e44-8276-e8a5a16b8f1b"
   },
   "outputs": [
    {
     "data": {
      "text/html": [
       "0"
      ],
      "text/latex": [
       "0"
      ],
      "text/markdown": [
       "0"
      ],
      "text/plain": [
       "[1] 0"
      ]
     },
     "metadata": {
      "tags": []
     },
     "output_type": "display_data"
    },
    {
     "data": {
      "text/html": [
       "22.2222222222222"
      ],
      "text/latex": [
       "22.2222222222222"
      ],
      "text/markdown": [
       "22.2222222222222"
      ],
      "text/plain": [
       "[1] 22.22222"
      ]
     },
     "metadata": {
      "tags": []
     },
     "output_type": "display_data"
    },
    {
     "data": {
      "text/html": [
       "-28.8888888888889"
      ],
      "text/latex": [
       "-28.8888888888889"
      ],
      "text/markdown": [
       "-28.8888888888889"
      ],
      "text/plain": [
       "[1] -28.88889"
      ]
     },
     "metadata": {
      "tags": []
     },
     "output_type": "display_data"
    },
    {
     "data": {
      "text/html": [
       "48.8888888888889"
      ],
      "text/latex": [
       "48.8888888888889"
      ],
      "text/markdown": [
       "48.8888888888889"
      ],
      "text/plain": [
       "[1] 48.88889"
      ]
     },
     "metadata": {
      "tags": []
     },
     "output_type": "display_data"
    },
    {
     "data": {
      "text/html": [
       "2"
      ],
      "text/latex": [
       "2"
      ],
      "text/markdown": [
       "2"
      ],
      "text/plain": [
       "[1] 2"
      ]
     },
     "metadata": {
      "tags": []
     },
     "output_type": "display_data"
    },
    {
     "data": {
      "text/html": [
       "7"
      ],
      "text/latex": [
       "7"
      ],
      "text/markdown": [
       "7"
      ],
      "text/plain": [
       "[1] 7"
      ]
     },
     "metadata": {
      "tags": []
     },
     "output_type": "display_data"
    },
    {
     "data": {
      "text/html": [
       "0"
      ],
      "text/latex": [
       "0"
      ],
      "text/markdown": [
       "0"
      ],
      "text/plain": [
       "[1] 0"
      ]
     },
     "metadata": {
      "tags": []
     },
     "output_type": "display_data"
    },
    {
     "data": {
      "text/html": [
       "5"
      ],
      "text/latex": [
       "5"
      ],
      "text/markdown": [
       "5"
      ],
      "text/plain": [
       "[1] 5"
      ]
     },
     "metadata": {
      "tags": []
     },
     "output_type": "display_data"
    },
    {
     "data": {
      "text/html": [
       "11.1803398874989"
      ],
      "text/latex": [
       "11.1803398874989"
      ],
      "text/markdown": [
       "11.1803398874989"
      ],
      "text/plain": [
       "[1] 11.18034"
      ]
     },
     "metadata": {
      "tags": []
     },
     "output_type": "display_data"
    },
    {
     "data": {
      "text/html": [
       "25.8069758011279"
      ],
      "text/latex": [
       "25.8069758011279"
      ],
      "text/markdown": [
       "25.8069758011279"
      ],
      "text/plain": [
       "[1] 25.80698"
      ]
     },
     "metadata": {
      "tags": []
     },
     "output_type": "display_data"
    },
    {
     "data": {
      "text/html": [
       "<style>\n",
       ".list-inline {list-style: none; margin:0; padding: 0}\n",
       ".list-inline>li {display: inline-block}\n",
       ".list-inline>li:not(:last-child)::after {content: \"\\00b7\"; padding: 0 .5ex}\n",
       "</style>\n",
       "<ol class=list-inline><li>0</li><li>0.5</li><li>1</li></ol>\n"
      ],
      "text/latex": [
       "\\begin{enumerate*}\n",
       "\\item 0\n",
       "\\item 0.5\n",
       "\\item 1\n",
       "\\end{enumerate*}\n"
      ],
      "text/markdown": [
       "1. 0\n",
       "2. 0.5\n",
       "3. 1\n",
       "\n",
       "\n"
      ],
      "text/plain": [
       "[1] 0.0 0.5 1.0"
      ]
     },
     "metadata": {
      "tags": []
     },
     "output_type": "display_data"
    },
    {
     "data": {
      "text/html": [
       "<style>\n",
       ".list-inline {list-style: none; margin:0; padding: 0}\n",
       ".list-inline>li {display: inline-block}\n",
       ".list-inline>li:not(:last-child)::after {content: \"\\00b7\"; padding: 0 .5ex}\n",
       "</style>\n",
       "<ol class=list-inline><li>0</li><li>1</li><li>0.555555555555556</li><li>0.777777777777778</li><li>&lt;NA&gt;</li></ol>\n"
      ],
      "text/latex": [
       "\\begin{enumerate*}\n",
       "\\item 0\n",
       "\\item 1\n",
       "\\item 0.555555555555556\n",
       "\\item 0.777777777777778\n",
       "\\item <NA>\n",
       "\\end{enumerate*}\n"
      ],
      "text/markdown": [
       "1. 0\n",
       "2. 1\n",
       "3. 0.555555555555556\n",
       "4. 0.777777777777778\n",
       "5. &lt;NA&gt;\n",
       "\n",
       "\n"
      ],
      "text/plain": [
       "[1] 0.0000000 1.0000000 0.5555556 0.7777778        NA"
      ]
     },
     "metadata": {
      "tags": []
     },
     "output_type": "display_data"
    },
    {
     "data": {
      "text/html": [
       "<style>\n",
       ".list-inline {list-style: none; margin:0; padding: 0}\n",
       ".list-inline>li {display: inline-block}\n",
       ".list-inline>li:not(:last-child)::after {content: \"\\00b7\"; padding: 0 .5ex}\n",
       "</style>\n",
       "<ol class=list-inline><li>0</li><li>0</li><li>5.40628209979997e-05</li><li>0.000432502567983997</li><li>0.000486565388981997</li><li>0.000540628209979997</li></ol>\n"
      ],
      "text/latex": [
       "\\begin{enumerate*}\n",
       "\\item 0\n",
       "\\item 0\n",
       "\\item 5.40628209979997e-05\n",
       "\\item 0.000432502567983997\n",
       "\\item 0.000486565388981997\n",
       "\\item 0.000540628209979997\n",
       "\\end{enumerate*}\n"
      ],
      "text/markdown": [
       "1. 0\n",
       "2. 0\n",
       "3. 5.40628209979997e-05\n",
       "4. 0.000432502567983997\n",
       "5. 0.000486565388981997\n",
       "6. 0.000540628209979997\n",
       "\n",
       "\n"
      ],
      "text/plain": [
       "[1] 0.000000e+00 0.000000e+00 5.406282e-05 4.325026e-04 4.865654e-04\n",
       "[6] 5.406282e-04"
      ]
     },
     "metadata": {
      "tags": []
     },
     "output_type": "display_data"
    }
   ],
   "source": [
    "# fahrenheit to celsius\n",
    "fahr_to_cel(32)\n",
    "\n",
    "fahr_to_cel(72)\n",
    "\n",
    "fahr_to_cel(-20)\n",
    "\n",
    "fahr_to_cel(120)\n",
    "\n",
    "\n",
    "#integer division\n",
    "#out <- floor(in_a / in_b) \n",
    "int_Division(12, 5)\n",
    "\n",
    "int_Division(72, 10)\n",
    "\n",
    "int_Division(19, 20)\n",
    "\n",
    "#pythagorean theorem\n",
    "# 2 inputs\n",
    "#c <- sqrt(a * a + b * b)\n",
    "pythag_theorem(3, 4)\n",
    "\n",
    "pythag_theorem(5, 10)\n",
    "\n",
    "pythag_theorem(15, 21)\n",
    "\n",
    "#change the range of a vector from 0 to 1\n",
    "# 1 input\n",
    "#df$d2 <- (df$d - min(df$d, na.rm = TRUE)) / \n",
    "#  (max(df$d, na.rm = TRUE) - min(df$d, na.rm = TRUE))\n",
    "rescale01(c(0, 5, 10))\n",
    "\n",
    "rescale01(c(-1, 8, 4, 6, NA))\n",
    "\n",
    "rescale01(diamonds$price) %>% head()"
   ]
  },
  {
   "cell_type": "markdown",
   "metadata": {
    "id": "WERZ8DFZ5a_e"
   },
   "source": [
    "#### Questions: \n"
   ]
  },
  {
   "cell_type": "markdown",
   "metadata": {
    "id": "zbG2Rhz36UMi"
   },
   "source": [
    "Practice turning the following into functions. Think about what each function does. What would you call it? How many arguments does it need? Can you rewrite it to be more expressive or less duplicative?"
   ]
  },
  {
   "cell_type": "code",
   "execution_count": null,
   "metadata": {
    "id": "_sTgNlHc62Ec"
   },
   "outputs": [],
   "source": [
    "#a) x / sum(x, na.rm = TRUE)\n",
    "\n",
    "percent_of_whole <- "
   ]
  },
  {
   "cell_type": "code",
   "execution_count": null,
   "metadata": {
    "colab": {
     "base_uri": "https://localhost:8080/",
     "height": 35
    },
    "id": "eV2oY3GX4L6z",
    "outputId": "62a49baf-f291-4bde-d339-f74ff8bc7fd7"
   },
   "outputs": [
    {
     "data": {
      "text/html": [
       "<style>\n",
       ".list-inline {list-style: none; margin:0; padding: 0}\n",
       ".list-inline>li {display: inline-block}\n",
       ".list-inline>li:not(:last-child)::after {content: \"\\00b7\"; padding: 0 .5ex}\n",
       "</style>\n",
       "<ol class=list-inline><li>0</li><li>0.1</li><li>0.5</li><li>0.4</li></ol>\n"
      ],
      "text/latex": [
       "\\begin{enumerate*}\n",
       "\\item 0\n",
       "\\item 0.1\n",
       "\\item 0.5\n",
       "\\item 0.4\n",
       "\\end{enumerate*}\n"
      ],
      "text/markdown": [
       "1. 0\n",
       "2. 0.1\n",
       "3. 0.5\n",
       "4. 0.4\n",
       "\n",
       "\n"
      ],
      "text/plain": [
       "[1] 0.0 0.1 0.5 0.4"
      ]
     },
     "metadata": {
      "tags": []
     },
     "output_type": "display_data"
    }
   ],
   "source": [
    "percent_of_whole(c(0,1,5,4))"
   ]
  },
  {
   "cell_type": "markdown",
   "metadata": {
    "id": "GT-qOWpp7XHl"
   },
   "source": [
    "b)\n",
    "\n",
    "\n",
    "![image.png](data:image/png;base64,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)"
   ]
  },
  {
   "cell_type": "markdown",
   "metadata": {
    "id": "IL5iT9SL7eTN"
   },
   "source": [
    "![image.png](data:image/png;base64,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)"
   ]
  },
  {
   "cell_type": "code",
   "execution_count": null,
   "metadata": {
    "id": "CxG8teK863qj"
   },
   "outputs": [],
   "source": [
    "variance <- "
   ]
  },
  {
   "cell_type": "code",
   "execution_count": null,
   "metadata": {
    "colab": {
     "base_uri": "https://localhost:8080/",
     "height": 35
    },
    "id": "niMAMH_i4zf7",
    "outputId": "3059ffc8-b2a1-4790-e536-c6864492982f"
   },
   "outputs": [
    {
     "data": {
      "text/html": [
       "4.66666666666667"
      ],
      "text/latex": [
       "4.66666666666667"
      ],
      "text/markdown": [
       "4.66666666666667"
      ],
      "text/plain": [
       "[1] 4.666667"
      ]
     },
     "metadata": {
      "tags": []
     },
     "output_type": "display_data"
    }
   ],
   "source": [
    "variance(c(1,0,5,2))"
   ]
  },
  {
   "cell_type": "code",
   "execution_count": null,
   "metadata": {
    "colab": {
     "base_uri": "https://localhost:8080/",
     "height": 52
    },
    "id": "mh_2dTFV9oa3",
    "outputId": "43eb7e4c-222f-42e0-af48-af08dbb537d8"
   },
   "outputs": [
    {
     "data": {
      "text/html": [
       "15915629.4243014"
      ],
      "text/latex": [
       "15915629.4243014"
      ],
      "text/markdown": [
       "15915629.4243014"
      ],
      "text/plain": [
       "[1] 15915629"
      ]
     },
     "metadata": {
      "tags": []
     },
     "output_type": "display_data"
    },
    {
     "data": {
      "text/html": [
       "15915629.4243014"
      ],
      "text/latex": [
       "15915629.4243014"
      ],
      "text/markdown": [
       "15915629.4243014"
      ],
      "text/plain": [
       "[1] 15915629"
      ]
     },
     "metadata": {
      "tags": []
     },
     "output_type": "display_data"
    }
   ],
   "source": [
    "variance(diamonds$price)\n",
    "\n",
    "var(diamonds$price)"
   ]
  },
  {
   "cell_type": "markdown",
   "metadata": {
    "id": "zsAB0SQXACtR"
   },
   "source": [
    "Come up with better names for these functions:"
   ]
  },
  {
   "cell_type": "code",
   "execution_count": null,
   "metadata": {
    "id": "DqvrwwIUAF4v"
   },
   "outputs": [],
   "source": [
    "fun <- function(string, prefix) {\n",
    "  substr(string, 1, nchar(prefix)) == prefix\n",
    "}\n",
    "\n",
    "fun2 <- function(x) {\n",
    "  if (length(x) <= 1) return(NULL)\n",
    "  x[-length(x)]\n",
    "}\n",
    "\n",
    "fun3 <- function(x, y) {\n",
    "  rep(y, length.out = length(x))\n",
    "}"
   ]
  },
  {
   "cell_type": "markdown",
   "metadata": {
    "id": "pDy7JU7wAadv"
   },
   "source": [
    "## Conditional's\n",
    "\n",
    "`if` and `if else` statements allow you to conditionally execute code.\n",
    "\n",
    "      if (condition) {\n",
    "        do this\n",
    "      } else if (condition b) {\n",
    "        do this instead\n",
    "      } else {\n",
    "        do this third thing\n",
    "      }\n",
    "\n",
    "Conditionals can be applied to any logiscal opperator (think back to filter statements).\n",
    "\n",
    "Word of Caution: `if ... else` only works on single values. You have to figure out something else if you want to apply the function to a vector. (We will learn about itterators which will work, or you could use `ifelse()` which we have used before."
   ]
  },
  {
   "cell_type": "code",
   "execution_count": null,
   "metadata": {
    "id": "S1R7v1IsAZvI"
   },
   "outputs": [],
   "source": [
    "classify20 <- function (y) {\n",
    "  if (y < 20) {\n",
    "    \"Too low\" \n",
    "  } else {\n",
    "    \"Too high\"\n",
    "  }\n",
    "}\n"
   ]
  },
  {
   "cell_type": "code",
   "execution_count": null,
   "metadata": {
    "colab": {
     "base_uri": "https://localhost:8080/",
     "height": 50
    },
    "id": "ShewSSQ5CGg2",
    "outputId": "20a6aa96-5eca-438b-fbb8-51a0ab8c5488"
   },
   "outputs": [
    {
     "data": {
      "text/html": [
       "'Too low'"
      ],
      "text/latex": [
       "'Too low'"
      ],
      "text/markdown": [
       "'Too low'"
      ],
      "text/plain": [
       "[1] \"Too low\""
      ]
     },
     "metadata": {
      "tags": []
     },
     "output_type": "display_data"
    },
    {
     "data": {
      "text/html": [
       "'Too high'"
      ],
      "text/latex": [
       "'Too high'"
      ],
      "text/markdown": [
       "'Too high'"
      ],
      "text/plain": [
       "[1] \"Too high\""
      ]
     },
     "metadata": {
      "tags": []
     },
     "output_type": "display_data"
    }
   ],
   "source": [
    "classify20(5)\n",
    "\n",
    "classify20(22)\n"
   ]
  },
  {
   "cell_type": "markdown",
   "metadata": {
    "id": "pYqHkfwUF5Nt"
   },
   "source": [
    "## Common interview question:\n",
    "\n",
    "Implement a fizzbuzz function. It takes a single number as input. If the number is divisible by three, it returns “fizz”. If it’s divisible by five it returns “buzz”. If it’s divisible by three and five, it returns “fizzbuzz”. Otherwise, it returns the number. Make sure you first write working code before you create the function."
   ]
  },
  {
   "cell_type": "code",
   "execution_count": null,
   "metadata": {
    "id": "P2toS1yxF9wV"
   },
   "outputs": [],
   "source": []
  },
  {
   "cell_type": "code",
   "execution_count": null,
   "metadata": {
    "colab": {
     "base_uri": "https://localhost:8080/",
     "height": 35
    },
    "id": "_jFxahDS7g26",
    "outputId": "99f9e345-37b7-4189-e69d-9de3a3345388"
   },
   "outputs": [
    {
     "data": {
      "text/html": [
       "4"
      ],
      "text/latex": [
       "4"
      ],
      "text/markdown": [
       "4"
      ],
      "text/plain": [
       "[1] 4"
      ]
     },
     "metadata": {
      "tags": []
     },
     "output_type": "display_data"
    }
   ],
   "source": [
    "fizzbuzz(4)"
   ]
  },
  {
   "cell_type": "markdown",
   "metadata": {
    "id": "Zc3Y_mKnF9Ei"
   },
   "source": [
    "## Switch and Cut\n",
    "\n",
    "If your if/else functions get too long consider usign `switch()` or `cut()` functions.\n",
    "\n",
    "**switch()**"
   ]
  },
  {
   "cell_type": "code",
   "execution_count": null,
   "metadata": {
    "id": "4vNftCBjGUyy"
   },
   "outputs": [],
   "source": [
    "operations <- function(x, y, op) {\n",
    "  switch(op,\n",
    "    plus = x + y,\n",
    "    minus = x - y,\n",
    "    times = x * y,\n",
    "    divide = x / y,\n",
    "    stop(\"Unknown op!\")\n",
    "  )\n",
    "}"
   ]
  },
  {
   "cell_type": "code",
   "execution_count": null,
   "metadata": {
    "colab": {
     "base_uri": "https://localhost:8080/",
     "height": 33
    },
    "id": "EGNY5Q0qGdue",
    "outputId": "8a8e3139-30d0-4fe7-822e-b0780baf33b5"
   },
   "outputs": [
    {
     "data": {
      "text/html": [
       "5"
      ],
      "text/latex": [
       "5"
      ],
      "text/markdown": [
       "5"
      ],
      "text/plain": [
       "[1] 5"
      ]
     },
     "metadata": {
      "tags": []
     },
     "output_type": "display_data"
    }
   ],
   "source": [
    "operations(2,3, \"plus\")"
   ]
  },
  {
   "cell_type": "code",
   "execution_count": null,
   "metadata": {
    "colab": {
     "base_uri": "https://localhost:8080/",
     "height": 33
    },
    "id": "YhFVaL2IGk_T",
    "outputId": "a952146c-9042-4498-b585-7bf5731d1840"
   },
   "outputs": [
    {
     "data": {
      "text/html": [
       "-1"
      ],
      "text/latex": [
       "-1"
      ],
      "text/markdown": [
       "-1"
      ],
      "text/plain": [
       "[1] -1"
      ]
     },
     "metadata": {
      "tags": []
     },
     "output_type": "display_data"
    }
   ],
   "source": [
    "operations(2,3, \"minus\")"
   ]
  },
  {
   "cell_type": "code",
   "execution_count": null,
   "metadata": {
    "colab": {
     "base_uri": "https://localhost:8080/",
     "height": 33
    },
    "id": "fLnJc4IbGnpm",
    "outputId": "95ca37f3-ab61-4199-8a77-df336717f8af"
   },
   "outputs": [
    {
     "data": {
      "text/html": [
       "6"
      ],
      "text/latex": [
       "6"
      ],
      "text/markdown": [
       "6"
      ],
      "text/plain": [
       "[1] 6"
      ]
     },
     "metadata": {
      "tags": []
     },
     "output_type": "display_data"
    }
   ],
   "source": [
    "operations(2,3, \"times\")"
   ]
  },
  {
   "cell_type": "code",
   "execution_count": null,
   "metadata": {
    "colab": {
     "base_uri": "https://localhost:8080/",
     "height": 33
    },
    "id": "bfaUrwT2GpB7",
    "outputId": "c73aaeeb-2503-4e55-babe-3317dcbcb27f"
   },
   "outputs": [
    {
     "data": {
      "text/html": [
       "0.666666666666667"
      ],
      "text/latex": [
       "0.666666666666667"
      ],
      "text/markdown": [
       "0.666666666666667"
      ],
      "text/plain": [
       "[1] 0.6666667"
      ]
     },
     "metadata": {
      "tags": []
     },
     "output_type": "display_data"
    }
   ],
   "source": [
    "operations(2,3, \"divide\")"
   ]
  },
  {
   "cell_type": "markdown",
   "metadata": {
    "id": "N8bs-YmfGTr6"
   },
   "source": [
    "\n",
    "**cut()**"
   ]
  },
  {
   "cell_type": "code",
   "execution_count": null,
   "metadata": {
    "id": "Rdf1TsX8HBaq"
   },
   "outputs": [],
   "source": [
    "classify_thirds <- function (y) {\n",
    "  cut(y, breaks = 3, label = 1:3)\n",
    "}\n"
   ]
  },
  {
   "cell_type": "code",
   "execution_count": null,
   "metadata": {
    "colab": {
     "base_uri": "https://localhost:8080/",
     "height": 67
    },
    "id": "Z7ulBT36HehY",
    "outputId": "30ff6e1c-de8a-4cac-9c8a-2989fbe5d4f5"
   },
   "outputs": [
    {
     "data": {
      "text/plain": [
       "c3\n",
       "    1     2     3 \n",
       "43591  7347  3002 "
      ]
     },
     "metadata": {
      "tags": []
     },
     "output_type": "display_data"
    }
   ],
   "source": [
    "c3 <- classify_thirds(diamonds$price)\n",
    "\n",
    "table(c3)"
   ]
  },
  {
   "cell_type": "code",
   "execution_count": null,
   "metadata": {
    "colab": {
     "base_uri": "https://localhost:8080/",
     "height": 33
    },
    "id": "Y95AKwLhJNFQ",
    "outputId": "5e98666a-58dd-4adf-c163-2adea253b46c"
   },
   "outputs": [
    {
     "data": {
      "text/html": [
       "'cool'"
      ],
      "text/latex": [
       "'cool'"
      ],
      "text/markdown": [
       "'cool'"
      ],
      "text/plain": [
       "[1] \"cool\""
      ]
     },
     "metadata": {
      "tags": []
     },
     "output_type": "display_data"
    }
   ],
   "source": [
    "\n",
    "classify_temp <- function(temp) {\n",
    "  if (temp <= 0) {\n",
    "    \"freezing\"\n",
    "  } else if (temp <= 10) {\n",
    "    \"cold\"\n",
    "  } else if (temp <= 20) {\n",
    "    \"cool\"\n",
    "  } else if (temp <= 30) {\n",
    "    \"warm\"\n",
    "  } else {\n",
    "    \"hot\"\n",
    "  }\n",
    "}\n",
    "\n",
    "classify_temp(15)"
   ]
  },
  {
   "cell_type": "code",
   "execution_count": null,
   "metadata": {
    "colab": {
     "base_uri": "https://localhost:8080/",
     "height": 50
    },
    "id": "6m6n1w1cJSXB",
    "outputId": "63a0d38a-a578-476f-c646-0c7570be33f9"
   },
   "outputs": [
    {
     "data": {
      "text/html": [
       "cool\n",
       "<details>\n",
       "\t<summary style=display:list-item;cursor:pointer>\n",
       "\t\t<strong>Levels</strong>:\n",
       "\t</summary>\n",
       "\t<style>\n",
       "\t.list-inline {list-style: none; margin:0; padding: 0}\n",
       "\t.list-inline>li {display: inline-block}\n",
       "\t.list-inline>li:not(:last-child)::after {content: \"\\00b7\"; padding: 0 .5ex}\n",
       "\t</style>\n",
       "\t<ol class=list-inline><li>'freezing'</li><li>'cold'</li><li>'cool'</li><li>'warm'</li><li>'hot'</li></ol>\n",
       "</details>"
      ],
      "text/latex": [
       "cool\n",
       "\\emph{Levels}: \\begin{enumerate*}\n",
       "\\item 'freezing'\n",
       "\\item 'cold'\n",
       "\\item 'cool'\n",
       "\\item 'warm'\n",
       "\\item 'hot'\n",
       "\\end{enumerate*}\n"
      ],
      "text/markdown": [
       "cool\n",
       "**Levels**: 1. 'freezing'\n",
       "2. 'cold'\n",
       "3. 'cool'\n",
       "4. 'warm'\n",
       "5. 'hot'\n",
       "\n",
       "\n"
      ],
      "text/plain": [
       "[1] cool\n",
       "Levels: freezing cold cool warm hot"
      ]
     },
     "metadata": {
      "tags": []
     },
     "output_type": "display_data"
    }
   ],
   "source": [
    "temp <- 15\n",
    "cut(temp, \n",
    "  breaks = c(-100,0,10,20,30,100), \n",
    "  labels = c(\"freezing\", \"cold\", \"cool\", \"warm\", \"hot\"))"
   ]
  },
  {
   "cell_type": "markdown",
   "metadata": {},
   "source": [
    "#### Challenges\n",
    "Write a function that takes in a percentage and returns a letter grade."
   ]
  },
  {
   "cell_type": "code",
   "execution_count": null,
   "metadata": {},
   "outputs": [],
   "source": []
  },
  {
   "cell_type": "markdown",
   "metadata": {},
   "source": [
    "Write a function that takes in a letter grade and returns whether they did \"Excellent! (A), \"Well Done!\" (C or B), \"You Passed.\" (D), \"Need to try again.\" (F) or if the letter is invalid. Also have the function return \"Your grade is _\""
   ]
  },
  {
   "cell_type": "code",
   "execution_count": null,
   "metadata": {},
   "outputs": [],
   "source": []
  },
  {
   "cell_type": "markdown",
   "metadata": {
    "id": "r_10R5PYbAFr"
   },
   "source": [
    "### Checking Values\n",
    "\n",
    "When creating functions it is often important to validate the arguments, meaning checking to make sure they work and/or make sense."
   ]
  },
  {
   "cell_type": "code",
   "execution_count": null,
   "metadata": {
    "colab": {
     "base_uri": "https://localhost:8080/",
     "height": 35
    },
    "id": "JtL0FcVubd2e",
    "outputId": "441393d5-4e27-4385-82e5-a6769c013dcf"
   },
   "outputs": [
    {
     "data": {
      "text/html": [
       "NaN"
      ],
      "text/latex": [
       "NaN"
      ],
      "text/markdown": [
       "NaN"
      ],
      "text/plain": [
       "[1] NaN"
      ]
     },
     "metadata": {
      "tags": []
     },
     "output_type": "display_data"
    }
   ],
   "source": [
    "int_Division(0,0)"
   ]
  },
  {
   "cell_type": "code",
   "execution_count": null,
   "metadata": {
    "id": "dKX9Ne2kbcVi"
   },
   "outputs": [],
   "source": [
    "#integer division\n",
    "int_Division <- function(a, b) {\n",
    "  #division\n",
    "  if (b == 0) {\n",
    "    ##calls an error\n",
    "    stop(\"cannot divide by 0...\", call. = FALSE)\n",
    "  }\n",
    "  div = a / b\n",
    "  #change to int\n",
    "  floor(div)\n",
    "}"
   ]
  },
  {
   "cell_type": "code",
   "execution_count": null,
   "metadata": {
    "colab": {
     "base_uri": "https://localhost:8080/",
     "height": 153
    },
    "id": "lTzXrq7gb4Un",
    "outputId": "18c7ff49-7725-450e-8eb9-c4416445e0fe"
   },
   "outputs": [
    {
     "ename": "ERROR",
     "evalue": "ignored",
     "output_type": "error",
     "traceback": [
      "Error: cannot divide by 0...\nTraceback:\n",
      "1. int_Division(0, 0)",
      "2. stop(\"cannot divide by 0...\", call. = FALSE)   # at line 6 of file <text>"
     ]
    }
   ],
   "source": [
    "int_Division(0,0)"
   ]
  },
  {
   "cell_type": "markdown",
   "metadata": {
    "id": "HaQdk5b1ayoU"
   },
   "source": [
    "## (...)\n",
    "\n"
   ]
  },
  {
   "cell_type": "markdown",
   "metadata": {
    "id": "c1cWMf_Hbz_g"
   },
   "source": [
    "We've used functions like:"
   ]
  },
  {
   "cell_type": "code",
   "execution_count": null,
   "metadata": {
    "colab": {
     "base_uri": "https://localhost:8080/",
     "height": 33
    },
    "id": "MPF_pQrDc__u",
    "outputId": "05e2a438-4aa4-4e67-a5d1-9ee8d8ff75a7"
   },
   "outputs": [
    {
     "data": {
      "text/html": [
       "55"
      ],
      "text/latex": [
       "55"
      ],
      "text/markdown": [
       "55"
      ],
      "text/plain": [
       "[1] 55"
      ]
     },
     "metadata": {
      "tags": []
     },
     "output_type": "display_data"
    }
   ],
   "source": [
    "sum(1,2,3,4,5,6,7,8,9,10)"
   ]
  },
  {
   "cell_type": "code",
   "execution_count": null,
   "metadata": {
    "colab": {
     "base_uri": "https://localhost:8080/",
     "height": 33
    },
    "id": "EGrqgpyIdDxD",
    "outputId": "6ff40a27-8fe4-4c20-aebd-8bc846ed8452"
   },
   "outputs": [
    {
     "data": {
      "text/html": [
       "'abcde'"
      ],
      "text/latex": [
       "'abcde'"
      ],
      "text/markdown": [
       "'abcde'"
      ],
      "text/plain": [
       "[1] \"abcde\""
      ]
     },
     "metadata": {
      "tags": []
     },
     "output_type": "display_data"
    }
   ],
   "source": [
    "str_c(\"a\",\"b\",\"c\",\"d\",\"e\")"
   ]
  },
  {
   "cell_type": "markdown",
   "metadata": {
    "id": "r0-rg9rUbbqE"
   },
   "source": [
    "How do these work? They ue the special argument `...`, which takes any number of arguments. This is expecially useful if you want to sent them on, and wrap another function."
   ]
  },
  {
   "cell_type": "code",
   "execution_count": null,
   "metadata": {
    "id": "ovLHppk4d5u3"
   },
   "outputs": [],
   "source": [
    "srt_sum <- function(...) sqrt(sum(...))"
   ]
  },
  {
   "cell_type": "code",
   "execution_count": null,
   "metadata": {
    "colab": {
     "base_uri": "https://localhost:8080/",
     "height": 33
    },
    "id": "VcJPuIFDeSm2",
    "outputId": "249398e0-7939-4270-894b-5d9d6c331180"
   },
   "outputs": [
    {
     "data": {
      "text/html": [
       "7.41619848709566"
      ],
      "text/latex": [
       "7.41619848709566"
      ],
      "text/markdown": [
       "7.41619848709566"
      ],
      "text/plain": [
       "[1] 7.416198"
      ]
     },
     "metadata": {
      "tags": []
     },
     "output_type": "display_data"
    }
   ],
   "source": [
    "srt_sum(1:10)"
   ]
  }
 ],
 "metadata": {
  "colab": {
   "collapsed_sections": [],
   "name": "Stats306_005_Lab9_Solutions.ipynb",
   "provenance": []
  },
  "kernelspec": {
   "display_name": "R",
   "language": "R",
   "name": "ir"
  },
  "language_info": {
   "codemirror_mode": "r",
   "file_extension": ".r",
   "mimetype": "text/x-r-source",
   "name": "R",
   "pygments_lexer": "r",
   "version": "4.0.4"
  }
 },
 "nbformat": 4,
 "nbformat_minor": 1
}
