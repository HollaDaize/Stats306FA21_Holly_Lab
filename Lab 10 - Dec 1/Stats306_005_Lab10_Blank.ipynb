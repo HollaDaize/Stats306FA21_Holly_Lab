{
 "cells": [
  {
   "cell_type": "markdown",
   "metadata": {
    "id": "POSnPhki4LTA"
   },
   "source": [
    "# Holly's Lab 10 (4/5): Iteration and Models"
   ]
  },
  {
   "cell_type": "markdown",
   "metadata": {
    "id": "Faj2c839kl-y"
   },
   "source": [
    "**Homework:**\n",
    "*  Last Homework!!!\n",
    "\n",
    "*  Final projects due Dec 14th (13 more days)... NO LATE PROJECTS ACCEPTED.\n",
    "\n",
    "*  Lab next week will just be time for you to work on your projects and office hours.\n",
    "\n"
   ]
  },
  {
   "cell_type": "markdown",
   "metadata": {
    "id": "Xc-VQQh34LTG"
   },
   "source": [
    "## Load Packages"
   ]
  },
  {
   "cell_type": "code",
   "execution_count": 1,
   "metadata": {
    "id": "XIvQ8mIm4LTH",
    "scrolled": false
   },
   "outputs": [
    {
     "name": "stderr",
     "output_type": "stream",
     "text": [
      "Warning message:\n",
      "\"package 'tidyverse' was built under R version 4.1.1\"\n",
      "-- \u001b[1mAttaching packages\u001b[22m ------------------------------------------------------------------------------- tidyverse 1.3.1 --\n",
      "\n",
      "\u001b[32mv\u001b[39m \u001b[34mggplot2\u001b[39m 3.3.5     \u001b[32mv\u001b[39m \u001b[34mpurrr  \u001b[39m 0.3.4\n",
      "\u001b[32mv\u001b[39m \u001b[34mtibble \u001b[39m 3.1.4     \u001b[32mv\u001b[39m \u001b[34mdplyr  \u001b[39m 1.0.7\n",
      "\u001b[32mv\u001b[39m \u001b[34mtidyr  \u001b[39m 1.1.3     \u001b[32mv\u001b[39m \u001b[34mstringr\u001b[39m 1.4.0\n",
      "\u001b[32mv\u001b[39m \u001b[34mreadr  \u001b[39m 2.0.1     \u001b[32mv\u001b[39m \u001b[34mforcats\u001b[39m 0.5.1\n",
      "\n",
      "Warning message:\n",
      "\"package 'ggplot2' was built under R version 4.1.0\"\n",
      "Warning message:\n",
      "\"package 'tibble' was built under R version 4.1.1\"\n",
      "Warning message:\n",
      "\"package 'tidyr' was built under R version 4.1.1\"\n",
      "Warning message:\n",
      "\"package 'readr' was built under R version 4.1.1\"\n",
      "Warning message:\n",
      "\"package 'purrr' was built under R version 4.1.1\"\n",
      "Warning message:\n",
      "\"package 'dplyr' was built under R version 4.1.0\"\n",
      "Warning message:\n",
      "\"package 'stringr' was built under R version 4.1.1\"\n",
      "Warning message:\n",
      "\"package 'forcats' was built under R version 4.1.1\"\n",
      "-- \u001b[1mConflicts\u001b[22m ---------------------------------------------------------------------------------- tidyverse_conflicts() --\n",
      "\u001b[31mx\u001b[39m \u001b[34mdplyr\u001b[39m::\u001b[32mfilter()\u001b[39m masks \u001b[34mstats\u001b[39m::filter()\n",
      "\u001b[31mx\u001b[39m \u001b[34mdplyr\u001b[39m::\u001b[32mlag()\u001b[39m    masks \u001b[34mstats\u001b[39m::lag()\n",
      "\n",
      "Warning message:\n",
      "\"package 'modelr' was built under R version 4.1.1\"\n"
     ]
    }
   ],
   "source": [
    "library(tidyverse)\n",
    "library(modelr)\n",
    "options(na.action = na.warn)\n",
    "\n",
    "set.seed(5678)"
   ]
  },
  {
   "cell_type": "markdown",
   "metadata": {},
   "source": [
    "# Recap\n",
    "Last time we talked about functions and using them as a way to reduce code. \n",
    "\n",
    "Key points:\n",
    "- Keep it simple.\n",
    "- Don't repeat code."
   ]
  },
  {
   "cell_type": "markdown",
   "metadata": {
    "id": "mLHHrED2ZCIO"
   },
   "source": [
    "# Iteration\n",
    "\n",
    "Another way to help reduce code duplication is through iteration.\n",
    "\n",
    "**Iteration**- helps you when you need to do the same thing to multiple inputs: repeating the same operation on different columns, on different datasets, or through different items of a vector.\n",
    "\n",
    "In `r` the best way to iterate is a for loop. For each item in this vector, do this....\n",
    "\n",
    "Every for loop has three components:\n",
    "\n",
    "\n",
    "\n",
    "1.   **Output-** \"Before you start the loop, you must always allocate sufficient space for the output. This is very important for efficiency: if you grow the for loop at each iteration using c() (for example), your for loop will be very slow. A general way of creating an empty vector of given length is the vector() function. It has two arguments: the type of the vector (“logical”, “integer”, “double”, “character”, etc) and the length of the vector.\"\n",
    "\n",
    "2.   **Sequence-** The vector you want to iterate over.\n",
    "\n",
    "    *   An already named vector\n",
    "    *   A numeric vector `1:n`\n",
    "    *   A vector created on the fly: `c(\"x\", \"y\", \"z\")`\n",
    "    *   The sequence along or length of a vector, or width of a tibble. `seq_along()` is safer to use than `1:length(x)` incase `x` has a length of `0`.\n",
    "\n",
    "3.  **Body-** what do you actually want to do to each piece.\n",
    "\n",
    "Think about the output, sequence, and body **before** you start writing the loop.\n",
    "\n",
    "\n",
    "\n",
    "\n",
    "\n"
   ]
  },
  {
   "cell_type": "code",
   "execution_count": 2,
   "metadata": {
    "id": "wvt2zp9AaFRs"
   },
   "outputs": [],
   "source": [
    "diamondsNum <- diamonds %>% select(where(is.numeric))"
   ]
  },
  {
   "cell_type": "code",
   "execution_count": 3,
   "metadata": {
    "colab": {
     "base_uri": "https://localhost:8080/",
     "height": 33
    },
    "id": "9QW6nl5vZ_p1",
    "outputId": "7922727c-fc75-4ad5-f7ef-357f53ca33a4"
   },
   "outputs": [
    {
     "data": {
      "text/html": [
       "<style>\n",
       ".list-inline {list-style: none; margin:0; padding: 0}\n",
       ".list-inline>li {display: inline-block}\n",
       ".list-inline>li:not(:last-child)::after {content: \"\\00b7\"; padding: 0 .5ex}\n",
       "</style>\n",
       "<ol class=list-inline><li>0.2</li><li>43</li><li>43</li><li>326</li><li>0</li><li>0</li><li>0</li></ol>\n"
      ],
      "text/latex": [
       "\\begin{enumerate*}\n",
       "\\item 0.2\n",
       "\\item 43\n",
       "\\item 43\n",
       "\\item 326\n",
       "\\item 0\n",
       "\\item 0\n",
       "\\item 0\n",
       "\\end{enumerate*}\n"
      ],
      "text/markdown": [
       "1. 0.2\n",
       "2. 43\n",
       "3. 43\n",
       "4. 326\n",
       "5. 0\n",
       "6. 0\n",
       "7. 0\n",
       "\n",
       "\n"
      ],
      "text/plain": [
       "[1]   0.2  43.0  43.0 326.0   0.0   0.0   0.0"
      ]
     },
     "metadata": {},
     "output_type": "display_data"
    }
   ],
   "source": [
    "#find the min for each numeric in the diamonds dataset\n",
    "\n",
    "output <- vector(\"double\", ncol(diamondsNum))  # 1. output\n",
    "for (i in seq_along(diamondsNum)) {            # 2. sequence\n",
    "  output[[i]] <- min(diamondsNum[[i]])         # 3. body\n",
    "}\n",
    "output"
   ]
  },
  {
   "cell_type": "markdown",
   "metadata": {
    "id": "byO1DV4ymtxP"
   },
   "source": [
    "### Challenges:\n",
    "\n",
    "Create a for loop which will find the mean of each numeric variable in the iris dataset."
   ]
  },
  {
   "cell_type": "code",
   "execution_count": 4,
   "metadata": {
    "id": "ixgomAsWmvR9"
   },
   "outputs": [],
   "source": [
    "irisNum <- iris %>% select(where(is.numeric))"
   ]
  },
  {
   "cell_type": "code",
   "execution_count": null,
   "metadata": {
    "id": "yzuuDcCXqD3Y"
   },
   "outputs": [],
   "source": []
  },
  {
   "cell_type": "markdown",
   "metadata": {
    "id": "7CfclNcJmWqv"
   },
   "source": [
    "## Variations\n",
    "\n",
    "Other things you can do with for loops:\n",
    "*   Modifying an existing object, instead of creating a new object.\n",
    "*   Looping over names or values, instead of indices.\n",
    "*   Handling outputs of unknown length.\n",
    "*   Handling sequences of unknown length.\n",
    "\n"
   ]
  },
  {
   "cell_type": "markdown",
   "metadata": {
    "id": "9Rndwxg5tqfD"
   },
   "source": [
    "\n",
    "### Modifing an existing object"
   ]
  },
  {
   "cell_type": "code",
   "execution_count": 5,
   "metadata": {
    "colab": {
     "base_uri": "https://localhost:8080/"
    },
    "id": "3cPXYy5vqa6y",
    "outputId": "6831057d-f570-40e6-b1c5-045aa8a1bb83"
   },
   "outputs": [
    {
     "name": "stdout",
     "output_type": "stream",
     "text": [
      "\u001b[90m# A tibble: 10 x 4\u001b[39m\n",
      "        a       b      c      d\n",
      "    \u001b[3m\u001b[90m<dbl>\u001b[39m\u001b[23m   \u001b[3m\u001b[90m<dbl>\u001b[39m\u001b[23m  \u001b[3m\u001b[90m<dbl>\u001b[39m\u001b[23m  \u001b[3m\u001b[90m<dbl>\u001b[39m\u001b[23m\n",
      "\u001b[90m 1\u001b[39m -\u001b[31m0\u001b[39m\u001b[31m.\u001b[39m\u001b[31m294\u001b[39m -\u001b[31m1\u001b[39m\u001b[31m.\u001b[39m\u001b[31m00\u001b[39m    1.00  -\u001b[31m0\u001b[39m\u001b[31m.\u001b[39m\u001b[31m759\u001b[39m\n",
      "\u001b[90m 2\u001b[39m -\u001b[31m0\u001b[39m\u001b[31m.\u001b[39m\u001b[31m243\u001b[39m -\u001b[31m1\u001b[39m\u001b[31m.\u001b[39m\u001b[31m35\u001b[39m    1.32   0.554\n",
      "\u001b[90m 3\u001b[39m -\u001b[31m0\u001b[39m\u001b[31m.\u001b[39m\u001b[31m207\u001b[39m -\u001b[31m0\u001b[39m\u001b[31m.\u001b[39m\u001b[31m727\u001b[39m  -\u001b[31m0\u001b[39m\u001b[31m.\u001b[39m\u001b[31m399\u001b[39m -\u001b[31m1\u001b[39m\u001b[31m.\u001b[39m\u001b[31m0\u001b[39m\u001b[31m6\u001b[39m \n",
      "\u001b[90m 4\u001b[39m -\u001b[31m0\u001b[39m\u001b[31m.\u001b[39m\u001b[31m945\u001b[39m  0.392   2.59  -\u001b[31m0\u001b[39m\u001b[31m.\u001b[39m\u001b[31m346\u001b[39m\n",
      "\u001b[90m 5\u001b[39m -\u001b[31m1\u001b[39m\u001b[31m.\u001b[39m\u001b[31m0\u001b[39m\u001b[31m7\u001b[39m  -\u001b[31m2\u001b[39m\u001b[31m.\u001b[39m\u001b[31m0\u001b[39m\u001b[31m6\u001b[39m    2.13  -\u001b[31m1\u001b[39m\u001b[31m.\u001b[39m\u001b[31m42\u001b[39m \n",
      "\u001b[90m 6\u001b[39m -\u001b[31m1\u001b[39m\u001b[31m.\u001b[39m\u001b[31m43\u001b[39m  -\u001b[31m0\u001b[39m\u001b[31m.\u001b[39m\u001b[31m516\u001b[39m   1.79  -\u001b[31m0\u001b[39m\u001b[31m.\u001b[39m\u001b[31m126\u001b[39m\n",
      "\u001b[90m 7\u001b[39m -\u001b[31m0\u001b[39m\u001b[31m.\u001b[39m\u001b[31m113\u001b[39m  0.823  -\u001b[31m0\u001b[39m\u001b[31m.\u001b[39m\u001b[31m237\u001b[39m -\u001b[31m1\u001b[39m\u001b[31m.\u001b[39m\u001b[31m24\u001b[39m \n",
      "\u001b[90m 8\u001b[39m  1.83   0.023\u001b[4m8\u001b[24m  0.747  1.33 \n",
      "\u001b[90m 9\u001b[39m  0.297  0.224   1.43  -\u001b[31m0\u001b[39m\u001b[31m.\u001b[39m\u001b[31m186\u001b[39m\n",
      "\u001b[90m10\u001b[39m  1.67  -\u001b[31m1\u001b[39m\u001b[31m.\u001b[39m\u001b[31m19\u001b[39m    0.203 -\u001b[31m0\u001b[39m\u001b[31m.\u001b[39m\u001b[31m437\u001b[39m\n"
     ]
    }
   ],
   "source": [
    "\n",
    "df <- tibble(                       # Output\n",
    "  a = rnorm(10),\n",
    "  b = rnorm(10),\n",
    "  c = rnorm(10),\n",
    "  d = rnorm(10)\n",
    ")\n",
    "rescale01 <- function(x) {          # Sequence\n",
    "  rng <- range(x, na.rm = TRUE)     # Body\n",
    "  (x - rng[1]) / (rng[2] - rng[1])\n",
    "}\n",
    "\n",
    "print(df)"
   ]
  },
  {
   "cell_type": "code",
   "execution_count": 6,
   "metadata": {
    "colab": {
     "base_uri": "https://localhost:8080/"
    },
    "id": "JJJXwbLnrCuA",
    "outputId": "025bfd46-7082-4de2-97a4-48c9774c4d68"
   },
   "outputs": [
    {
     "name": "stdout",
     "output_type": "stream",
     "text": [
      "\u001b[90m# A tibble: 10 x 4\u001b[39m\n",
      "       a     b      c      d\n",
      "   \u001b[3m\u001b[90m<dbl>\u001b[39m\u001b[23m \u001b[3m\u001b[90m<dbl>\u001b[39m\u001b[23m  \u001b[3m\u001b[90m<dbl>\u001b[39m\u001b[23m  \u001b[3m\u001b[90m<dbl>\u001b[39m\u001b[23m\n",
      "\u001b[90m 1\u001b[39m 0.349 0.368 0.469  0.240 \n",
      "\u001b[90m 2\u001b[39m 0.364 0.247 0.574  0.717 \n",
      "\u001b[90m 3\u001b[39m 0.375 0.463 0      0.132 \n",
      "\u001b[90m 4\u001b[39m 0.149 0.851 1      0.391 \n",
      "\u001b[90m 5\u001b[39m 0.110 0     0.848  0     \n",
      "\u001b[90m 6\u001b[39m 0     0.536 0.732  0.470 \n",
      "\u001b[90m 7\u001b[39m 0.404 1     0.054\u001b[4m5\u001b[24m 0.065\u001b[4m1\u001b[24m\n",
      "\u001b[90m 8\u001b[39m 1     0.723 0.384  1     \n",
      "\u001b[90m 9\u001b[39m 0.530 0.793 0.611  0.448 \n",
      "\u001b[90m10\u001b[39m 0.949 0.304 0.202  0.357 \n"
     ]
    }
   ],
   "source": [
    "for (i in seq_along(df)) {\n",
    "  df[[i]] <- rescale01(df[[i]])\n",
    "}\n",
    "\n",
    "print(df)"
   ]
  },
  {
   "cell_type": "markdown",
   "metadata": {
    "id": "k7P4HLqprNV7"
   },
   "source": [
    "**RECALL** `[[]]` gets a single element of a data frame or list and `[]` gets the list with just that item in it. It is good practice to use `[[]]`."
   ]
  },
  {
   "cell_type": "markdown",
   "metadata": {
    "id": "8i1qsM1Sr9_L"
   },
   "source": [
    "### Looping Patterns\n",
    "\n",
    "There are three main ways to iterate through a vector `x`:\n",
    "\n",
    "\n",
    "1.   By position using `for (i in seq_along(x))` then calling something like `x[[i]]`\n",
    "2.   By element using `for (i in x)` then calling something like `print(i)`\n",
    "3.   By name using `for (nm in names(x))` which is helpful if you want to include the names in the output. You can access the values by `x[[nm]]`\n",
    "\n",
    "However, out of all of these, the first is the most standard as with the position we can access both the name and the value, where with the other two we cannot access position.\n",
    "\n"
   ]
  },
  {
   "cell_type": "code",
   "execution_count": 7,
   "metadata": {
    "id": "JbUiVunDr9ri"
   },
   "outputs": [],
   "source": [
    "x <- 1:15\n",
    "names(x) <- 1:15\n",
    "for (i in seq_along(x)) {\n",
    "  name <- names(x)[[i]]\n",
    "  value <- x[[i]]\n",
    "}"
   ]
  },
  {
   "cell_type": "markdown",
   "metadata": {
    "id": "9fc02HvTnLJy"
   },
   "source": [
    "#### Challenge:\n",
    "Write a function that will compute the number of unique values in each column of a given dataset."
   ]
  },
  {
   "cell_type": "code",
   "execution_count": 8,
   "metadata": {
    "id": "YocwugHCoczs"
   },
   "outputs": [],
   "source": [
    "findUniques <- function(x)\n",
    "{\n",
    "  \n",
    "}"
   ]
  },
  {
   "cell_type": "code",
   "execution_count": 9,
   "metadata": {
    "colab": {
     "base_uri": "https://localhost:8080/"
    },
    "id": "0y71a-AZoIGV",
    "outputId": "c177e1fc-9197-429d-86b0-00eeabb1197e"
   },
   "outputs": [
    {
     "name": "stdout",
     "output_type": "stream",
     "text": [
      "NULL\n"
     ]
    }
   ],
   "source": [
    "findUniques(iris) %>% print()"
   ]
  },
  {
   "cell_type": "code",
   "execution_count": 10,
   "metadata": {
    "colab": {
     "base_uri": "https://localhost:8080/"
    },
    "id": "bXvWn35UqO9L",
    "outputId": "78abd279-f10e-4f83-d3ca-abca315f0045"
   },
   "outputs": [
    {
     "name": "stdout",
     "output_type": "stream",
     "text": [
      "NULL\n"
     ]
    }
   ],
   "source": [
    "findUniques(diamonds) %>% print()"
   ]
  },
  {
   "cell_type": "markdown",
   "metadata": {
    "id": "Y2-jkcWntuF7"
   },
   "source": [
    "### Unknown output length\n",
    "\n",
    "Every time R changes the length of a vector, it creates a new vector of longer length and then copy the items one by one over. If you change the length a lot of times, it does this a lot of times... which takes a lot of time.\n",
    "\n",
    "A better solution is to use a list and change it to a vector when you are done."
   ]
  },
  {
   "cell_type": "code",
   "execution_count": 11,
   "metadata": {
    "colab": {
     "base_uri": "https://localhost:8080/"
    },
    "id": "AvSHREYYuOB5",
    "outputId": "1e3d2eaf-56e4-4984-cd2a-16238efc1bd3"
   },
   "outputs": [
    {
     "name": "stdout",
     "output_type": "stream",
     "text": [
      "List of 3\n",
      " $ : num [1:30] -0.6469 -0.0489 1.0754 -0.4751 -0.4561 ...\n",
      " $ : num [1:25] -1.458 -1.154 0.423 1.548 0.527 ...\n",
      " $ : num [1:13] 1.34 3.28 1.67 1.86 3.67 ...\n"
     ]
    }
   ],
   "source": [
    "means <- c(0, 1, 2)\n",
    "\n",
    "out <- vector(\"list\", length(means))\n",
    "for (i in seq_along(means)) {\n",
    "  n <- sample(100, 1)\n",
    "  out[[i]] <- rnorm(n, means[[i]])\n",
    "}\n",
    "str(out)"
   ]
  },
  {
   "cell_type": "code",
   "execution_count": 12,
   "metadata": {
    "colab": {
     "base_uri": "https://localhost:8080/"
    },
    "id": "KHYrdGbUuVAt",
    "outputId": "01289d47-95b5-40a9-8b35-1a53db24ba50"
   },
   "outputs": [
    {
     "name": "stdout",
     "output_type": "stream",
     "text": [
      " num [1:68] -0.6469 -0.0489 1.0754 -0.4751 -0.4561 ...\n"
     ]
    }
   ],
   "source": [
    "str(unlist(out))"
   ]
  },
  {
   "cell_type": "markdown",
   "metadata": {
    "id": "ha039Hi2u6lP"
   },
   "source": [
    "### Unknown sequence length\n",
    "\n",
    "In the sense of data science, this is weird to think about, because we always have a set number of rows, but if you wanted to look for a specific value, you don't need to keep looking after you find it. It is also helpful for simulations, (ie. keep producing random numbers from a normal distribution until I get one that is higher than 3 sd's, or roll 5 dice till I get yatzee (all five are equal))."
   ]
  },
  {
   "cell_type": "code",
   "execution_count": 13,
   "metadata": {
    "colab": {
     "base_uri": "https://localhost:8080/",
     "height": 33
    },
    "id": "LgPd9ytKvhw7",
    "outputId": "0ea01107-af98-4d3f-b859-5635d75e857b"
   },
   "outputs": [
    {
     "data": {
      "text/html": [
       "353"
      ],
      "text/latex": [
       "353"
      ],
      "text/markdown": [
       "353"
      ],
      "text/plain": [
       "[1] 353"
      ]
     },
     "metadata": {},
     "output_type": "display_data"
    }
   ],
   "source": [
    "tries <- 0\n",
    "same <- FALSE\n",
    "\n",
    "dice <- vector(\"double\", 5)\n",
    "\n",
    "while (! same)\n",
    "{\n",
    "  for (i in seq_along(dice))\n",
    "  {\n",
    "    dice[[i]] <- sample(1:6, 1)\n",
    "  }\n",
    "  if (dice[[1]] == dice[[2]] & dice[[2]] == dice[[3]] & dice[[3]] == dice[[4]] \n",
    "        & dice[[4]] == dice[[5]])\n",
    "  {\n",
    "    same <- TRUE\n",
    "  }\n",
    "  tries <- tries + 1\n",
    "}\n",
    "\n",
    "tries"
   ]
  },
  {
   "cell_type": "markdown",
   "metadata": {
    "id": "e5p_qMv5vg-4"
   },
   "source": [
    "A while loop is also more general than a for loop, because you can rewrite any for loop as a while loop, but you can’t rewrite every while loop as a for loop:"
   ]
  },
  {
   "cell_type": "code",
   "execution_count": 14,
   "metadata": {
    "id": "3uoJb7kCwMhF"
   },
   "outputs": [],
   "source": [
    "for (i in seq_along(x)) {\n",
    "  # body\n",
    "}\n",
    "\n",
    "# Equivalent to\n",
    "i <- 1\n",
    "while (i <= length(x)) {\n",
    "  # body\n",
    "  i <- i + 1 \n",
    "}"
   ]
  },
  {
   "cell_type": "markdown",
   "metadata": {
    "id": "3q5DefKQxyxz"
   },
   "source": [
    "#### Challenge\n",
    "\n",
    "Write a loop to see how many random numbers it takes before you get one higher than 3 standard deviations above the mean from a N(0,1) distribution."
   ]
  },
  {
   "cell_type": "code",
   "execution_count": 15,
   "metadata": {
    "id": "rA3mfov6yD2V"
   },
   "outputs": [],
   "source": [
    "?rnorm"
   ]
  },
  {
   "cell_type": "code",
   "execution_count": null,
   "metadata": {
    "id": "CYHSXPzPyOmC"
   },
   "outputs": [],
   "source": []
  },
  {
   "cell_type": "markdown",
   "metadata": {
    "id": "nGUFecpzy6nV"
   },
   "source": [
    "### Functionals\n",
    "\n",
    "It is helpful to note that in `r` a function can be passed as the argument of a function."
   ]
  },
  {
   "cell_type": "code",
   "execution_count": 16,
   "metadata": {
    "colab": {
     "base_uri": "https://localhost:8080/"
    },
    "id": "Wsun7SZkzCH2",
    "outputId": "5db91aa3-af03-4314-f383-45a822076d15"
   },
   "outputs": [
    {
     "name": "stdout",
     "output_type": "stream",
     "text": [
      "[1] 5.80 3.00 4.35 1.30\n",
      "[1]    0.7979397   61.7494049   57.4571839 3932.7997219    5.7311572\n",
      "[6]    5.7345260    3.5387338\n",
      "[1] 150 150 150 150 150\n"
     ]
    }
   ],
   "source": [
    "col_summary <- function(df, fun) {\n",
    "  out <- vector(\"double\", length(df))\n",
    "  for (i in seq_along(df)) {\n",
    "    out[i] <- fun(df[[i]])\n",
    "  }\n",
    "  out\n",
    "}\n",
    "col_summary(irisNum, median) %>% print()\n",
    "col_summary(diamondsNum, mean) %>% print()\n",
    "col_summary(iris, length) %>% print()"
   ]
  },
  {
   "cell_type": "markdown",
   "metadata": {
    "id": "ON0k5hPTzpm9"
   },
   "source": [
    "Map functions simplify this process further as our `col_summary()` function is basically the same as mapping. (which comes from the `purrr` package in `tidyverse`). Mapping preserves names, though we could modify our function to also preserve names."
   ]
  },
  {
   "cell_type": "code",
   "execution_count": 17,
   "metadata": {
    "colab": {
     "base_uri": "https://localhost:8080/"
    },
    "id": "CkdGLaF7zyYL",
    "outputId": "c9595388-30b3-4f24-d313-e62e8f1acb8b"
   },
   "outputs": [
    {
     "name": "stdout",
     "output_type": "stream",
     "text": [
      "Sepal.Length  Sepal.Width Petal.Length  Petal.Width \n",
      "        5.80         3.00         4.35         1.30 \n",
      "       carat        depth        table        price            x            y \n",
      "   0.7979397   61.7494049   57.4571839 3932.7997219    5.7311572    5.7345260 \n",
      "           z \n",
      "   3.5387338 \n",
      "Sepal.Length  Sepal.Width Petal.Length  Petal.Width      Species \n",
      "         150          150          150          150          150 \n"
     ]
    }
   ],
   "source": [
    "map_dbl(irisNum, median) %>% print()\n",
    "map_dbl(diamondsNum, mean) %>% print()\n",
    "map_dbl(iris, length) %>% print()"
   ]
  },
  {
   "cell_type": "markdown",
   "metadata": {
    "id": "BX6QO8e41TfH"
   },
   "source": [
    "# Models\n",
    "\n",
    "Models are a way to predict a trend in data. Think of them as \"lines\" of best fit, though, they don't have to always be lines, and often they are multiple dimensions.\n",
    "\n",
    "Two parts to a model:\n",
    "\n",
    "1.  Define the family, what generic pattern do you want to capture? (line, quadratic curve, quartic, log function, etc...)\n",
    "\n",
    "2.  Generate a fited model. Find the member of that family **closest** to your data.\n",
    "\n",
    "\"All models are wrong, but some are useful.\" -George Box "
   ]
  },
  {
   "cell_type": "markdown",
   "metadata": {
    "id": "lHqk4HRLJpa7"
   },
   "source": [
    "## A Simple Model\n",
    "\n",
    "We are going to look at sepal length and width for the setosa iris species."
   ]
  },
  {
   "cell_type": "code",
   "execution_count": 18,
   "metadata": {
    "id": "ud43YBK7JtW-"
   },
   "outputs": [],
   "source": [
    "setosa <- iris %>% \n",
    "  filter(Species == \"setosa\") %>% \n",
    "  select(Sepal.Length, Sepal.Width)"
   ]
  },
  {
   "cell_type": "code",
   "execution_count": 19,
   "metadata": {
    "colab": {
     "base_uri": "https://localhost:8080/",
     "height": 437
    },
    "id": "_6rBW2cKJ7p7",
    "outputId": "15d8596a-e9de-41b2-9b9b-e9ac005e1307"
   },
   "outputs": [
    {
     "data": {
      "image/png": "[encoded data removed]",
      "text/plain": [
       "plot without title"
      ]
     },
     "metadata": {
      "image/png": {
       "height": 420,
       "width": 420
      }
     },
     "output_type": "display_data"
    }
   ],
   "source": [
    "ggplot(setosa, aes(Sepal.Length, Sepal.Width)) + \n",
    "  geom_point()"
   ]
  },
  {
   "cell_type": "markdown",
   "metadata": {
    "id": "g6IoVPcJKjB4"
   },
   "source": [
    "This data looks fairly linear (though maybe not super strong), but still, lets see if we can find the best relationship. \n",
    "\n",
    "Linear relationships will be of the form `y = m * x + b` or `Sepal.Width = a1 + a2 * Sepal.Length`. Quadratics are of the form `y = a + b * x + c * x ^ 2`"
   ]
  },
  {
   "cell_type": "code",
   "execution_count": 20,
   "metadata": {
    "colab": {
     "base_uri": "https://localhost:8080/",
     "height": 437
    },
    "id": "ZxbSG265KiXN",
    "outputId": "db0a92e6-1032-49cb-ca90-85755b338efd"
   },
   "outputs": [
    {
     "data": {
      "image/png": "[encoded data removed]",
      "text/plain": [
       "plot without title"
      ]
     },
     "metadata": {
      "image/png": {
       "height": 420,
       "width": 420
      }
     },
     "output_type": "display_data"
    }
   ],
   "source": [
    "#create a bunch of random models... most are not super great...\n",
    "\n",
    "models <- tibble(\n",
    "  a1 = runif(5000, -2, 10),\n",
    "  a2 = runif(5000, -5, 5)\n",
    ")\n",
    " \n",
    "# geom_abline() takes a slope and intercept as parameters\n",
    "ggplot(setosa, aes(Sepal.Length, Sepal.Width)) + \n",
    "  geom_abline(aes(intercept = a1, slope = a2), data = models, alpha = 1/4) +\n",
    "  geom_point() "
   ]
  },
  {
   "cell_type": "markdown",
   "metadata": {
    "id": "-59QVefbMT2i"
   },
   "source": [
    "To find the best model, we want to minimize the errors, or deviations from our actual points (response) to the model (prediction). \n",
    "\n",
    "This picture is a different model, but the idea is the same."
   ]
  },
  {
   "cell_type": "markdown",
   "metadata": {
    "id": "s2LSpvzyMpj_"
   },
   "source": [
    "![image.png](data:image/png;base64,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)"
   ]
  },
  {
   "cell_type": "code",
   "execution_count": 21,
   "metadata": {
    "colab": {
     "base_uri": "https://localhost:8080/"
    },
    "id": "-zsde8Y5LDvJ",
    "outputId": "fcc555e6-3e15-41f1-f6ca-0795115987c2"
   },
   "outputs": [
    {
     "name": "stdout",
     "output_type": "stream",
     "text": [
      "   Sepal.Length\n",
      "1           3.6\n",
      "2           3.4\n",
      "3           3.2\n",
      "4           3.1\n",
      "5           3.5\n",
      "6           3.9\n",
      "7           3.1\n",
      "8           3.5\n",
      "9           2.9\n",
      "10          3.4\n",
      "11          3.9\n",
      "12          3.3\n",
      "13          3.3\n",
      "14          2.8\n",
      "15          4.3\n",
      "16          4.2\n",
      "17          3.9\n",
      "18          3.6\n",
      "19          4.2\n",
      "20          3.6\n",
      "21          3.9\n",
      "22          3.6\n",
      "23          3.1\n",
      "24          3.6\n",
      "25          3.3\n",
      "26          3.5\n",
      "27          3.5\n",
      "28          3.7\n",
      "29          3.7\n",
      "30          3.2\n",
      "31          3.3\n",
      "32          3.9\n",
      "33          3.7\n",
      "34          4.0\n",
      "35          3.4\n",
      "36          3.5\n",
      "37          4.0\n",
      "38          3.4\n",
      "39          2.9\n",
      "40          3.6\n",
      "41          3.5\n",
      "42          3.0\n",
      "43          2.9\n",
      "44          3.5\n",
      "45          3.6\n",
      "46          3.3\n",
      "47          3.6\n",
      "48          3.1\n",
      "49          3.8\n",
      "50          3.5\n"
     ]
    }
   ],
   "source": [
    "#make a function which fits the model....\n",
    "model1 <- function(a, data) {\n",
    "  a[1] + data[1] * a[2]\n",
    "}\n",
    "model1(c(-1.5, 1), setosa) %>% print()"
   ]
  },
  {
   "cell_type": "markdown",
   "metadata": {
    "id": "qM1gzaeZMq2C"
   },
   "source": [
    "To actually compare them we want to find a way to quantify all of the deviations. Frequently we use a \"root-mean-squared deviation\" or the \"mean-absolute distance\""
   ]
  },
  {
   "cell_type": "code",
   "execution_count": 22,
   "metadata": {
    "colab": {
     "base_uri": "https://localhost:8080/",
     "height": 33
    },
    "id": "UTcVKJuWPwdd",
    "outputId": "a70f2ced-375e-4802-9004-2cd7618aab56"
   },
   "outputs": [
    {
     "data": {
      "text/html": [
       "0.272396769437525"
      ],
      "text/latex": [
       "0.272396769437525"
      ],
      "text/markdown": [
       "0.272396769437525"
      ],
      "text/plain": [
       "[1] 0.2723968"
      ]
     },
     "metadata": {},
     "output_type": "display_data"
    }
   ],
   "source": [
    "measure_distance <- function(mod, data) {\n",
    "  diff <- data[2] - model1(mod, data)\n",
    "  sqrt(sum(diff ^2)/nrow(data)) #the mean function would be better here, but for somereason it wasn't working....\n",
    "}\n",
    "measure_distance(c(-1.5, 1), setosa)"
   ]
  },
  {
   "cell_type": "code",
   "execution_count": 23,
   "metadata": {
    "colab": {
     "base_uri": "https://localhost:8080/"
    },
    "id": "wrQhOaI2OwMU",
    "outputId": "a98b9ffb-cf1a-49e3-f296-173314dd5082"
   },
   "outputs": [
    {
     "name": "stdout",
     "output_type": "stream",
     "text": [
      "\u001b[90m# A tibble: 5,000 x 3\u001b[39m\n",
      "       a1     a2  dist\n",
      "    \u001b[3m\u001b[90m<dbl>\u001b[39m\u001b[23m  \u001b[3m\u001b[90m<dbl>\u001b[39m\u001b[23m \u001b[3m\u001b[90m<dbl>\u001b[39m\u001b[23m\n",
      "\u001b[90m 1\u001b[39m  3.42  -\u001b[31m4\u001b[39m\u001b[31m.\u001b[39m\u001b[31m74\u001b[39m  23.8 \n",
      "\u001b[90m 2\u001b[39m  3.48  -\u001b[31m0\u001b[39m\u001b[31m.\u001b[39m\u001b[31m379\u001b[39m  1.90\n",
      "\u001b[90m 3\u001b[39m  1.59   4.83  22.4 \n",
      "\u001b[90m 4\u001b[39m -\u001b[31m0\u001b[39m\u001b[31m.\u001b[39m\u001b[31m504\u001b[39m  1.85   5.37\n",
      "\u001b[90m 5\u001b[39m  2.51   3.18  15.0 \n",
      "\u001b[90m 6\u001b[39m  7.63  -\u001b[31m2\u001b[39m\u001b[31m.\u001b[39m\u001b[31m95\u001b[39m  10.7 \n",
      "\u001b[90m 7\u001b[39m  0.393  1.68   5.39\n",
      "\u001b[90m 8\u001b[39m  1.44  -\u001b[31m3\u001b[39m\u001b[31m.\u001b[39m\u001b[31m87\u001b[39m  21.4 \n",
      "\u001b[90m 9\u001b[39m  7.07   3.96  23.5 \n",
      "\u001b[90m10\u001b[39m -\u001b[31m1\u001b[39m\u001b[31m.\u001b[39m\u001b[31m77\u001b[39m   0.505  2.68\n",
      "\u001b[90m# ... with 4,990 more rows\u001b[39m\n"
     ]
    }
   ],
   "source": [
    "rmst_dist <- function(a1, a2) {\n",
    "  measure_distance(c(a1, a2), setosa)\n",
    "}\n",
    "\n",
    "# for all of my models calculate the average RMSD\n",
    "models <- models %>% \n",
    "  mutate(dist = purrr::map2_dbl(a1, a2, rmst_dist))\n",
    "print(models)"
   ]
  },
  {
   "cell_type": "markdown",
   "metadata": {
    "id": "4tqpmTEkSFTb"
   },
   "source": [
    "Find the best models."
   ]
  },
  {
   "cell_type": "code",
   "execution_count": 24,
   "metadata": {
    "colab": {
     "base_uri": "https://localhost:8080/",
     "height": 243
    },
    "id": "27BB8LZ4PwVs",
    "outputId": "deeab265-866a-4bd5-997b-38c4f812ba41"
   },
   "outputs": [
    {
     "data": {
      "text/html": [
       "<table class=\"dataframe\">\n",
       "<caption>A tibble: 5 × 3</caption>\n",
       "<thead>\n",
       "\t<tr><th scope=col>a1</th><th scope=col>a2</th><th scope=col>dist</th></tr>\n",
       "\t<tr><th scope=col>&lt;dbl&gt;</th><th scope=col>&lt;dbl&gt;</th><th scope=col>&lt;dbl&gt;</th></tr>\n",
       "</thead>\n",
       "<tbody>\n",
       "\t<tr><td>-1.8239379</td><td>1.0408927</td><td>0.2683762</td></tr>\n",
       "\t<tr><td> 0.4175399</td><td>0.5863054</td><td>0.2726629</td></tr>\n",
       "\t<tr><td>-0.8689490</td><td>0.8542259</td><td>0.2529417</td></tr>\n",
       "\t<tr><td>-1.6559229</td><td>0.9945033</td><td>0.2810115</td></tr>\n",
       "\t<tr><td>-0.8383272</td><td>0.8740973</td><td>0.2753871</td></tr>\n",
       "</tbody>\n",
       "</table>\n"
      ],
      "text/latex": [
       "A tibble: 5 × 3\n",
       "\\begin{tabular}{lll}\n",
       " a1 & a2 & dist\\\\\n",
       " <dbl> & <dbl> & <dbl>\\\\\n",
       "\\hline\n",
       "\t -1.8239379 & 1.0408927 & 0.2683762\\\\\n",
       "\t  0.4175399 & 0.5863054 & 0.2726629\\\\\n",
       "\t -0.8689490 & 0.8542259 & 0.2529417\\\\\n",
       "\t -1.6559229 & 0.9945033 & 0.2810115\\\\\n",
       "\t -0.8383272 & 0.8740973 & 0.2753871\\\\\n",
       "\\end{tabular}\n"
      ],
      "text/markdown": [
       "\n",
       "A tibble: 5 × 3\n",
       "\n",
       "| a1 &lt;dbl&gt; | a2 &lt;dbl&gt; | dist &lt;dbl&gt; |\n",
       "|---|---|---|\n",
       "| -1.8239379 | 1.0408927 | 0.2683762 |\n",
       "|  0.4175399 | 0.5863054 | 0.2726629 |\n",
       "| -0.8689490 | 0.8542259 | 0.2529417 |\n",
       "| -1.6559229 | 0.9945033 | 0.2810115 |\n",
       "| -0.8383272 | 0.8740973 | 0.2753871 |\n",
       "\n"
      ],
      "text/plain": [
       "  a1         a2        dist     \n",
       "1 -1.8239379 1.0408927 0.2683762\n",
       "2  0.4175399 0.5863054 0.2726629\n",
       "3 -0.8689490 0.8542259 0.2529417\n",
       "4 -1.6559229 0.9945033 0.2810115\n",
       "5 -0.8383272 0.8740973 0.2753871"
      ]
     },
     "metadata": {},
     "output_type": "display_data"
    }
   ],
   "source": [
    "(best <- top_n(models, 5, -dist))"
   ]
  },
  {
   "cell_type": "code",
   "execution_count": 25,
   "metadata": {
    "colab": {
     "base_uri": "https://localhost:8080/",
     "height": 437
    },
    "id": "aOl3Og2IPGu6",
    "outputId": "d65fedf5-925d-46d3-915e-90adee9465c5"
   },
   "outputs": [
    {
     "data": {
      "image/png": "[encoded data removed]",
      "text/plain": [
       "plot without title"
      ]
     },
     "metadata": {
      "image/png": {
       "height": 420,
       "width": 420
      }
     },
     "output_type": "display_data"
    }
   ],
   "source": [
    "ggplot(setosa, aes(Sepal.Length, Sepal.Width)) + \n",
    "  geom_point(size = 2, colour = \"grey30\") + \n",
    "  geom_abline(\n",
    "    aes(intercept = a1, slope = a2, colour = dist), \n",
    "    data = best\n",
    "  )"
   ]
  },
  {
   "cell_type": "code",
   "execution_count": 26,
   "metadata": {
    "colab": {
     "base_uri": "https://localhost:8080/",
     "height": 124
    },
    "id": "i86gdr1OTQKr",
    "outputId": "7cc348fe-9cd1-4abf-8d74-8f909e5cc77d"
   },
   "outputs": [
    {
     "data": {
      "text/html": [
       "<table class=\"dataframe\">\n",
       "<caption>A tibble: 1 × 3</caption>\n",
       "<thead>\n",
       "\t<tr><th scope=col>a1</th><th scope=col>a2</th><th scope=col>dist</th></tr>\n",
       "\t<tr><th scope=col>&lt;dbl&gt;</th><th scope=col>&lt;dbl&gt;</th><th scope=col>&lt;dbl&gt;</th></tr>\n",
       "</thead>\n",
       "<tbody>\n",
       "\t<tr><td>-0.868949</td><td>0.8542259</td><td>0.2529417</td></tr>\n",
       "</tbody>\n",
       "</table>\n"
      ],
      "text/latex": [
       "A tibble: 1 × 3\n",
       "\\begin{tabular}{lll}\n",
       " a1 & a2 & dist\\\\\n",
       " <dbl> & <dbl> & <dbl>\\\\\n",
       "\\hline\n",
       "\t -0.868949 & 0.8542259 & 0.2529417\\\\\n",
       "\\end{tabular}\n"
      ],
      "text/markdown": [
       "\n",
       "A tibble: 1 × 3\n",
       "\n",
       "| a1 &lt;dbl&gt; | a2 &lt;dbl&gt; | dist &lt;dbl&gt; |\n",
       "|---|---|---|\n",
       "| -0.868949 | 0.8542259 | 0.2529417 |\n",
       "\n"
      ],
      "text/plain": [
       "  a1        a2        dist     \n",
       "1 -0.868949 0.8542259 0.2529417"
      ]
     },
     "metadata": {},
     "output_type": "display_data"
    }
   ],
   "source": [
    "top_n(models, 1, -dist)"
   ]
  },
  {
   "cell_type": "markdown",
   "metadata": {
    "id": "bP0WnnffTHs9"
   },
   "source": [
    "There is an optim function which will find the best out of all values, not just the one generated by our random models to begin with."
   ]
  },
  {
   "cell_type": "code",
   "execution_count": 27,
   "metadata": {
    "colab": {
     "base_uri": "https://localhost:8080/",
     "height": 454
    },
    "id": "A71FmTJ5TWmU",
    "outputId": "ba417fa6-4f75-465a-dbbf-46ca609e88a3"
   },
   "outputs": [
    {
     "data": {
      "text/html": [
       "<style>\n",
       ".list-inline {list-style: none; margin:0; padding: 0}\n",
       ".list-inline>li {display: inline-block}\n",
       ".list-inline>li:not(:last-child)::after {content: \"\\00b7\"; padding: 0 .5ex}\n",
       "</style>\n",
       "<ol class=list-inline><li>-0.568257149256393</li><li>0.79824935716152</li></ol>\n"
      ],
      "text/latex": [
       "\\begin{enumerate*}\n",
       "\\item -0.568257149256393\n",
       "\\item 0.79824935716152\n",
       "\\end{enumerate*}\n"
      ],
      "text/markdown": [
       "1. -0.568257149256393\n",
       "2. 0.79824935716152\n",
       "\n",
       "\n"
      ],
      "text/plain": [
       "[1] -0.5682571  0.7982494"
      ]
     },
     "metadata": {},
     "output_type": "display_data"
    },
    {
     "data": {
      "image/png": "[encoded data removed]",
      "text/plain": [
       "plot without title"
      ]
     },
     "metadata": {
      "image/png": {
       "height": 420,
       "width": 420
      }
     },
     "output_type": "display_data"
    }
   ],
   "source": [
    "best <- optim(c(0, 0), measure_distance, data = setosa)\n",
    "best$par\n",
    "\n",
    "ggplot(setosa, aes(Sepal.Length, Sepal.Width)) + \n",
    "  geom_point(size = 2, colour = \"grey30\") + \n",
    "  geom_abline(intercept = best$par[1], slope = best$par[2])"
   ]
  },
  {
   "cell_type": "markdown",
   "metadata": {
    "id": "1h4PWQGqUjtD"
   },
   "source": [
    "Honestly and truly, everytime I have done this kind of modeling in `r` I have used the `lm()` (linear model) or `glm()` (generalized linear model) functions. This is a good exercise to help understand modeling, but the `lm()` function makes it simpler."
   ]
  },
  {
   "cell_type": "code",
   "execution_count": 28,
   "metadata": {
    "id": "JaHIH5qTVCI3"
   },
   "outputs": [],
   "source": [
    "?lm"
   ]
  },
  {
   "cell_type": "code",
   "execution_count": 29,
   "metadata": {
    "colab": {
     "base_uri": "https://localhost:8080/",
     "height": 134
    },
    "id": "2XaQnJLeVHzi",
    "outputId": "c525e700-03ec-47bc-93b2-bf6512a8b01b"
   },
   "outputs": [
    {
     "data": {
      "text/plain": [
       "\n",
       "Call:\n",
       "lm(formula = Sepal.Width ~ Sepal.Length, data = setosa)\n",
       "\n",
       "Coefficients:\n",
       " (Intercept)  Sepal.Length  \n",
       "     -0.5694        0.7985  \n"
      ]
     },
     "metadata": {},
     "output_type": "display_data"
    }
   ],
   "source": [
    "(lmodel <- lm(Sepal.Width~Sepal.Length, setosa))"
   ]
  },
  {
   "cell_type": "code",
   "execution_count": 30,
   "metadata": {
    "colab": {
     "base_uri": "https://localhost:8080/",
     "height": 318
    },
    "id": "rSwP9dmvVdin",
    "outputId": "6641f15a-f42a-4976-ad4b-2d92dfbe0554"
   },
   "outputs": [
    {
     "data": {
      "text/plain": [
       "\n",
       "Call:\n",
       "lm(formula = Sepal.Width ~ Sepal.Length, data = setosa)\n",
       "\n",
       "Residuals:\n",
       "     Min       1Q   Median       3Q      Max \n",
       "-0.72394 -0.18273 -0.00306  0.15738  0.51709 \n",
       "\n",
       "Coefficients:\n",
       "             Estimate Std. Error t value Pr(>|t|)    \n",
       "(Intercept)   -0.5694     0.5217  -1.091    0.281    \n",
       "Sepal.Length   0.7985     0.1040   7.681 6.71e-10 ***\n",
       "---\n",
       "Signif. codes:  0 '***' 0.001 '**' 0.01 '*' 0.05 '.' 0.1 ' ' 1\n",
       "\n",
       "Residual standard error: 0.2565 on 48 degrees of freedom\n",
       "Multiple R-squared:  0.5514,\tAdjusted R-squared:  0.542 \n",
       "F-statistic: 58.99 on 1 and 48 DF,  p-value: 6.71e-10\n"
      ]
     },
     "metadata": {},
     "output_type": "display_data"
    }
   ],
   "source": [
    "summary(lmodel)"
   ]
  },
  {
   "cell_type": "code",
   "execution_count": 31,
   "metadata": {
    "colab": {
     "base_uri": "https://localhost:8080/",
     "height": 686
    },
    "id": "wjAtj7MKV4BY",
    "outputId": "a2eb4f9c-0c51-499f-cb1b-95240968160d"
   },
   "outputs": [
    {
     "data": {
      "text/plain": [
       "\n",
       "Call:\n",
       "lm(formula = price ~ ., data = diamonds)\n",
       "\n",
       "Residuals:\n",
       "     Min       1Q   Median       3Q      Max \n",
       "-21376.0   -592.4   -183.5    376.4  10694.2 \n",
       "\n",
       "Coefficients:\n",
       "             Estimate Std. Error  t value Pr(>|t|)    \n",
       "(Intercept)  5753.762    396.630   14.507  < 2e-16 ***\n",
       "carat       11256.978     48.628  231.494  < 2e-16 ***\n",
       "cut.L         584.457     22.478   26.001  < 2e-16 ***\n",
       "cut.Q        -301.908     17.994  -16.778  < 2e-16 ***\n",
       "cut.C         148.035     15.483    9.561  < 2e-16 ***\n",
       "cut^4         -20.794     12.377   -1.680  0.09294 .  \n",
       "color.L     -1952.160     17.342 -112.570  < 2e-16 ***\n",
       "color.Q      -672.054     15.777  -42.597  < 2e-16 ***\n",
       "color.C      -165.283     14.725  -11.225  < 2e-16 ***\n",
       "color^4        38.195     13.527    2.824  0.00475 ** \n",
       "color^5       -95.793     12.776   -7.498 6.59e-14 ***\n",
       "color^6       -48.466     11.614   -4.173 3.01e-05 ***\n",
       "clarity.L    4097.431     30.259  135.414  < 2e-16 ***\n",
       "clarity.Q   -1925.004     28.227  -68.197  < 2e-16 ***\n",
       "clarity.C     982.205     24.152   40.668  < 2e-16 ***\n",
       "clarity^4    -364.918     19.285  -18.922  < 2e-16 ***\n",
       "clarity^5     233.563     15.752   14.828  < 2e-16 ***\n",
       "clarity^6       6.883     13.715    0.502  0.61575    \n",
       "clarity^7      90.640     12.103    7.489 7.06e-14 ***\n",
       "depth         -63.806      4.535  -14.071  < 2e-16 ***\n",
       "table         -26.474      2.912   -9.092  < 2e-16 ***\n",
       "x           -1008.261     32.898  -30.648  < 2e-16 ***\n",
       "y               9.609     19.333    0.497  0.61918    \n",
       "z             -50.119     33.486   -1.497  0.13448    \n",
       "---\n",
       "Signif. codes:  0 '***' 0.001 '**' 0.01 '*' 0.05 '.' 0.1 ' ' 1\n",
       "\n",
       "Residual standard error: 1130 on 53916 degrees of freedom\n",
       "Multiple R-squared:  0.9198,\tAdjusted R-squared:  0.9198 \n",
       "F-statistic: 2.688e+04 on 23 and 53916 DF,  p-value: < 2.2e-16\n"
      ]
     },
     "metadata": {},
     "output_type": "display_data"
    }
   ],
   "source": [
    "lm(price~., diamonds) %>% summary()"
   ]
  },
  {
   "cell_type": "markdown",
   "metadata": {
    "id": "pxdC709iTssB"
   },
   "source": [
    "### Challenge\n",
    "\n",
    "The iris dataset has 3 species. Pick another one, or a combination of two or all 3, and try to create a model to predict Sepal.Width based on Sepal.Length."
   ]
  },
  {
   "cell_type": "code",
   "execution_count": null,
   "metadata": {
    "id": "3fhC8EQKUB8X"
   },
   "outputs": [],
   "source": []
  }
 ],
 "metadata": {
  "colab": {
   "collapsed_sections": [],
   "name": "Stats306_005_Lab10_Blank.ipynb",
   "provenance": []
  },
  "kernelspec": {
   "display_name": "R",
   "language": "R",
   "name": "ir"
  },
  "language_info": {
   "codemirror_mode": "r",
   "file_extension": ".r",
   "mimetype": "text/x-r-source",
   "name": "R",
   "pygments_lexer": "r",
   "version": "4.0.4"
  }
 },
 "nbformat": 4,
 "nbformat_minor": 1
}
