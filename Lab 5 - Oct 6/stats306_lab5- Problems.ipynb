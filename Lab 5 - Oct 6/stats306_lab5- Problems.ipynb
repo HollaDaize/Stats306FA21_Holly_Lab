{
 "cells": [
  {
   "cell_type": "markdown",
   "metadata": {},
   "source": [
    "# Lab 5: Data manipulation\n"
   ]
  },
  {
   "cell_type": "code",
   "execution_count": 1,
   "metadata": {},
   "outputs": [
    {
     "name": "stderr",
     "output_type": "stream",
     "text": [
      "Loading required package: tidyverse\n",
      "\n",
      "Warning message:\n",
      "\"package 'tidyverse' was built under R version 4.1.1\"\n",
      "-- \u001b[1mAttaching packages\u001b[22m ------------------------------------------------------------------------------- tidyverse 1.3.1 --\n",
      "\n",
      "\u001b[32mv\u001b[39m \u001b[34mggplot2\u001b[39m 3.3.5     \u001b[32mv\u001b[39m \u001b[34mpurrr  \u001b[39m 0.3.4\n",
      "\u001b[32mv\u001b[39m \u001b[34mtibble \u001b[39m 3.1.4     \u001b[32mv\u001b[39m \u001b[34mdplyr  \u001b[39m 1.0.7\n",
      "\u001b[32mv\u001b[39m \u001b[34mtidyr  \u001b[39m 1.1.3     \u001b[32mv\u001b[39m \u001b[34mstringr\u001b[39m 1.4.0\n",
      "\u001b[32mv\u001b[39m \u001b[34mreadr  \u001b[39m 2.0.1     \u001b[32mv\u001b[39m \u001b[34mforcats\u001b[39m 0.5.1\n",
      "\n",
      "Warning message:\n",
      "\"package 'ggplot2' was built under R version 4.1.0\"\n",
      "Warning message:\n",
      "\"package 'tibble' was built under R version 4.1.1\"\n",
      "Warning message:\n",
      "\"package 'tidyr' was built under R version 4.1.1\"\n",
      "Warning message:\n",
      "\"package 'readr' was built under R version 4.1.1\"\n",
      "Warning message:\n",
      "\"package 'purrr' was built under R version 4.1.1\"\n",
      "Warning message:\n",
      "\"package 'dplyr' was built under R version 4.1.0\"\n",
      "Warning message:\n",
      "\"package 'stringr' was built under R version 4.1.1\"\n",
      "Warning message:\n",
      "\"package 'forcats' was built under R version 4.1.1\"\n",
      "-- \u001b[1mConflicts\u001b[22m ---------------------------------------------------------------------------------- tidyverse_conflicts() --\n",
      "\u001b[31mx\u001b[39m \u001b[34mdplyr\u001b[39m::\u001b[32mfilter()\u001b[39m masks \u001b[34mstats\u001b[39m::filter()\n",
      "\u001b[31mx\u001b[39m \u001b[34mdplyr\u001b[39m::\u001b[32mlag()\u001b[39m    masks \u001b[34mstats\u001b[39m::lag()\n",
      "\n"
     ]
    }
   ],
   "source": [
    "require(tidyverse)"
   ]
  },
  {
   "cell_type": "markdown",
   "metadata": {},
   "source": [
    "## MLB Data\n",
    "\n",
    "This dataset contains information for player-seasons in the American League from 2015 to 2018. For those unfamiliar with baseball:\n",
    "* `PA`: Plate Appearances, the number of times a player came up to bat.\n",
    "* `HR`: number of home runs.\n",
    "* `BBrate`: The number of walks (BBs) as a percentage of plate appearances.\n",
    "* `BB`: The number of walks.\n",
    "* `K`: The number of strikeouts.\n",
    "* `AVG`: A batters batting average.\n",
    "* `FB`: The number of fly balls a batter hit.\n",
    "\n",
    "Note: Also recall the functions `unite`, `separate`, and `complete`."
   ]
  },
  {
   "cell_type": "code",
   "execution_count": 2,
   "metadata": {},
   "outputs": [],
   "source": [
    "?unite"
   ]
  },
  {
   "cell_type": "code",
   "execution_count": 3,
   "metadata": {},
   "outputs": [],
   "source": [
    "?separate"
   ]
  },
  {
   "cell_type": "code",
   "execution_count": 4,
   "metadata": {},
   "outputs": [],
   "source": [
    "?complete"
   ]
  },
  {
   "cell_type": "code",
   "execution_count": 5,
   "metadata": {},
   "outputs": [
    {
     "name": "stderr",
     "output_type": "stream",
     "text": [
      "\u001b[1m\u001b[1mRows: \u001b[1m\u001b[22m\u001b[34m\u001b[34m1526\u001b[34m\u001b[39m \u001b[1m\u001b[1mColumns: \u001b[1m\u001b[22m\u001b[34m\u001b[34m11\u001b[34m\u001b[39m\n",
      "\n",
      "\u001b[36m--\u001b[39m \u001b[1m\u001b[1mColumn specification\u001b[1m\u001b[22m \u001b[36m------------------------------------------------------------------------------------------------\u001b[39m\n",
      "\u001b[1mDelimiter:\u001b[22m \",\"\n",
      "\u001b[31mchr\u001b[39m (5): name, team, division, BBrate, BB_K\n",
      "\u001b[32mdbl\u001b[39m (6): year, PA, HR, AVG, FB, playerid\n",
      "\n",
      "\n",
      "\u001b[36mi\u001b[39m Use \u001b[30m\u001b[47m\u001b[30m\u001b[47m`spec()`\u001b[47m\u001b[30m\u001b[49m\u001b[39m to retrieve the full column specification for this data.\n",
      "\u001b[36mi\u001b[39m Specify the column types or set \u001b[30m\u001b[47m\u001b[30m\u001b[47m`show_col_types = FALSE`\u001b[47m\u001b[30m\u001b[49m\u001b[39m to quiet this message.\n",
      "\n"
     ]
    },
    {
     "data": {
      "text/html": [
       "<table class=\"dataframe\">\n",
       "<caption>A tibble: 6 × 11</caption>\n",
       "<thead>\n",
       "\t<tr><th scope=col>year</th><th scope=col>name</th><th scope=col>team</th><th scope=col>division</th><th scope=col>PA</th><th scope=col>HR</th><th scope=col>BBrate</th><th scope=col>BB_K</th><th scope=col>AVG</th><th scope=col>FB</th><th scope=col>playerid</th></tr>\n",
       "\t<tr><th scope=col>&lt;dbl&gt;</th><th scope=col>&lt;chr&gt;</th><th scope=col>&lt;chr&gt;</th><th scope=col>&lt;chr&gt;</th><th scope=col>&lt;dbl&gt;</th><th scope=col>&lt;dbl&gt;</th><th scope=col>&lt;chr&gt;</th><th scope=col>&lt;chr&gt;</th><th scope=col>&lt;dbl&gt;</th><th scope=col>&lt;dbl&gt;</th><th scope=col>&lt;dbl&gt;</th></tr>\n",
       "</thead>\n",
       "<tbody>\n",
       "\t<tr><td>2016</td><td>Abraham Almonte</td><td>Indians</td><td>Central</td><td>194</td><td>1</td><td>4.1 % </td><td>8/42 </td><td>0.264</td><td>43</td><td> 5486</td></tr>\n",
       "\t<tr><td>2017</td><td>Abraham Almonte</td><td>Indians</td><td>Central</td><td>195</td><td>3</td><td>10.3 %</td><td>20/46</td><td>0.233</td><td>34</td><td> 5486</td></tr>\n",
       "\t<tr><td>2015</td><td>Adam Moore     </td><td>Indians</td><td>Central</td><td>  4</td><td>0</td><td>0.0 % </td><td>0/2  </td><td>0.250</td><td> 1</td><td> 9362</td></tr>\n",
       "\t<tr><td>2016</td><td>Adam Moore     </td><td>Indians</td><td>Central</td><td>  5</td><td>0</td><td>0.0 % </td><td>0/4  </td><td>0.000</td><td> 1</td><td> 9362</td></tr>\n",
       "\t<tr><td>2018</td><td>Adam Plutko    </td><td>Indians</td><td>Central</td><td>  2</td><td>0</td><td>0.0 % </td><td>0/0  </td><td>0.000</td><td> 0</td><td>15846</td></tr>\n",
       "\t<tr><td>2018</td><td>Adam Rosales   </td><td>Indians</td><td>Central</td><td> 21</td><td>1</td><td>4.8 % </td><td>1/5  </td><td>0.211</td><td> 7</td><td> 9682</td></tr>\n",
       "</tbody>\n",
       "</table>\n"
      ],
      "text/latex": [
       "A tibble: 6 × 11\n",
       "\\begin{tabular}{lllllllllll}\n",
       " year & name & team & division & PA & HR & BBrate & BB\\_K & AVG & FB & playerid\\\\\n",
       " <dbl> & <chr> & <chr> & <chr> & <dbl> & <dbl> & <chr> & <chr> & <dbl> & <dbl> & <dbl>\\\\\n",
       "\\hline\n",
       "\t 2016 & Abraham Almonte & Indians & Central & 194 & 1 & 4.1 \\%  & 8/42  & 0.264 & 43 &  5486\\\\\n",
       "\t 2017 & Abraham Almonte & Indians & Central & 195 & 3 & 10.3 \\% & 20/46 & 0.233 & 34 &  5486\\\\\n",
       "\t 2015 & Adam Moore      & Indians & Central &   4 & 0 & 0.0 \\%  & 0/2   & 0.250 &  1 &  9362\\\\\n",
       "\t 2016 & Adam Moore      & Indians & Central &   5 & 0 & 0.0 \\%  & 0/4   & 0.000 &  1 &  9362\\\\\n",
       "\t 2018 & Adam Plutko     & Indians & Central &   2 & 0 & 0.0 \\%  & 0/0   & 0.000 &  0 & 15846\\\\\n",
       "\t 2018 & Adam Rosales    & Indians & Central &  21 & 1 & 4.8 \\%  & 1/5   & 0.211 &  7 &  9682\\\\\n",
       "\\end{tabular}\n"
      ],
      "text/markdown": [
       "\n",
       "A tibble: 6 × 11\n",
       "\n",
       "| year &lt;dbl&gt; | name &lt;chr&gt; | team &lt;chr&gt; | division &lt;chr&gt; | PA &lt;dbl&gt; | HR &lt;dbl&gt; | BBrate &lt;chr&gt; | BB_K &lt;chr&gt; | AVG &lt;dbl&gt; | FB &lt;dbl&gt; | playerid &lt;dbl&gt; |\n",
       "|---|---|---|---|---|---|---|---|---|---|---|\n",
       "| 2016 | Abraham Almonte | Indians | Central | 194 | 1 | 4.1 %  | 8/42  | 0.264 | 43 |  5486 |\n",
       "| 2017 | Abraham Almonte | Indians | Central | 195 | 3 | 10.3 % | 20/46 | 0.233 | 34 |  5486 |\n",
       "| 2015 | Adam Moore      | Indians | Central |   4 | 0 | 0.0 %  | 0/2   | 0.250 |  1 |  9362 |\n",
       "| 2016 | Adam Moore      | Indians | Central |   5 | 0 | 0.0 %  | 0/4   | 0.000 |  1 |  9362 |\n",
       "| 2018 | Adam Plutko     | Indians | Central |   2 | 0 | 0.0 %  | 0/0   | 0.000 |  0 | 15846 |\n",
       "| 2018 | Adam Rosales    | Indians | Central |  21 | 1 | 4.8 %  | 1/5   | 0.211 |  7 |  9682 |\n",
       "\n"
      ],
      "text/plain": [
       "  year name            team    division PA  HR BBrate BB_K  AVG   FB playerid\n",
       "1 2016 Abraham Almonte Indians Central  194 1  4.1 %  8/42  0.264 43  5486   \n",
       "2 2017 Abraham Almonte Indians Central  195 3  10.3 % 20/46 0.233 34  5486   \n",
       "3 2015 Adam Moore      Indians Central    4 0  0.0 %  0/2   0.250  1  9362   \n",
       "4 2016 Adam Moore      Indians Central    5 0  0.0 %  0/4   0.000  1  9362   \n",
       "5 2018 Adam Plutko     Indians Central    2 0  0.0 %  0/0   0.000  0 15846   \n",
       "6 2018 Adam Rosales    Indians Central   21 1  4.8 %  1/5   0.211  7  9682   "
      ]
     },
     "metadata": {},
     "output_type": "display_data"
    }
   ],
   "source": [
    "mlb = read_csv('https://raw.githubusercontent.com/rogerfan/stats306_f18_labs/master/mlb.csv')\n",
    "head(mlb)"
   ]
  },
  {
   "cell_type": "markdown",
   "metadata": {},
   "source": [
    "Note that `BBrate` and `BB_K` were read in as strings. Clean up these variables and convert them to numeric variables, noting that `BB_K` should be two variables named `BB` and `K`."
   ]
  },
  {
   "cell_type": "code",
   "execution_count": 6,
   "metadata": {},
   "outputs": [
    {
     "data": {
      "text/html": [
       "<table class=\"dataframe\">\n",
       "<caption>A tibble: 6 × 12</caption>\n",
       "<thead>\n",
       "\t<tr><th scope=col>year</th><th scope=col>name</th><th scope=col>team</th><th scope=col>division</th><th scope=col>PA</th><th scope=col>HR</th><th scope=col>BBrate</th><th scope=col>BB</th><th scope=col>K</th><th scope=col>AVG</th><th scope=col>FB</th><th scope=col>playerid</th></tr>\n",
       "\t<tr><th scope=col>&lt;dbl&gt;</th><th scope=col>&lt;chr&gt;</th><th scope=col>&lt;chr&gt;</th><th scope=col>&lt;chr&gt;</th><th scope=col>&lt;dbl&gt;</th><th scope=col>&lt;dbl&gt;</th><th scope=col>&lt;dbl&gt;</th><th scope=col>&lt;int&gt;</th><th scope=col>&lt;int&gt;</th><th scope=col>&lt;dbl&gt;</th><th scope=col>&lt;dbl&gt;</th><th scope=col>&lt;dbl&gt;</th></tr>\n",
       "</thead>\n",
       "<tbody>\n",
       "\t<tr><td>2016</td><td>Abraham Almonte</td><td>Indians</td><td>Central</td><td>194</td><td>1</td><td>0.041</td><td> 8</td><td>42</td><td>0.264</td><td>43</td><td> 5486</td></tr>\n",
       "\t<tr><td>2017</td><td>Abraham Almonte</td><td>Indians</td><td>Central</td><td>195</td><td>3</td><td>0.103</td><td>20</td><td>46</td><td>0.233</td><td>34</td><td> 5486</td></tr>\n",
       "\t<tr><td>2015</td><td>Adam Moore     </td><td>Indians</td><td>Central</td><td>  4</td><td>0</td><td>0.000</td><td> 0</td><td> 2</td><td>0.250</td><td> 1</td><td> 9362</td></tr>\n",
       "\t<tr><td>2016</td><td>Adam Moore     </td><td>Indians</td><td>Central</td><td>  5</td><td>0</td><td>0.000</td><td> 0</td><td> 4</td><td>0.000</td><td> 1</td><td> 9362</td></tr>\n",
       "\t<tr><td>2018</td><td>Adam Plutko    </td><td>Indians</td><td>Central</td><td>  2</td><td>0</td><td>0.000</td><td> 0</td><td> 0</td><td>0.000</td><td> 0</td><td>15846</td></tr>\n",
       "\t<tr><td>2018</td><td>Adam Rosales   </td><td>Indians</td><td>Central</td><td> 21</td><td>1</td><td>0.048</td><td> 1</td><td> 5</td><td>0.211</td><td> 7</td><td> 9682</td></tr>\n",
       "</tbody>\n",
       "</table>\n"
      ],
      "text/latex": [
       "A tibble: 6 × 12\n",
       "\\begin{tabular}{llllllllllll}\n",
       " year & name & team & division & PA & HR & BBrate & BB & K & AVG & FB & playerid\\\\\n",
       " <dbl> & <chr> & <chr> & <chr> & <dbl> & <dbl> & <dbl> & <int> & <int> & <dbl> & <dbl> & <dbl>\\\\\n",
       "\\hline\n",
       "\t 2016 & Abraham Almonte & Indians & Central & 194 & 1 & 0.041 &  8 & 42 & 0.264 & 43 &  5486\\\\\n",
       "\t 2017 & Abraham Almonte & Indians & Central & 195 & 3 & 0.103 & 20 & 46 & 0.233 & 34 &  5486\\\\\n",
       "\t 2015 & Adam Moore      & Indians & Central &   4 & 0 & 0.000 &  0 &  2 & 0.250 &  1 &  9362\\\\\n",
       "\t 2016 & Adam Moore      & Indians & Central &   5 & 0 & 0.000 &  0 &  4 & 0.000 &  1 &  9362\\\\\n",
       "\t 2018 & Adam Plutko     & Indians & Central &   2 & 0 & 0.000 &  0 &  0 & 0.000 &  0 & 15846\\\\\n",
       "\t 2018 & Adam Rosales    & Indians & Central &  21 & 1 & 0.048 &  1 &  5 & 0.211 &  7 &  9682\\\\\n",
       "\\end{tabular}\n"
      ],
      "text/markdown": [
       "\n",
       "A tibble: 6 × 12\n",
       "\n",
       "| year &lt;dbl&gt; | name &lt;chr&gt; | team &lt;chr&gt; | division &lt;chr&gt; | PA &lt;dbl&gt; | HR &lt;dbl&gt; | BBrate &lt;dbl&gt; | BB &lt;int&gt; | K &lt;int&gt; | AVG &lt;dbl&gt; | FB &lt;dbl&gt; | playerid &lt;dbl&gt; |\n",
       "|---|---|---|---|---|---|---|---|---|---|---|---|\n",
       "| 2016 | Abraham Almonte | Indians | Central | 194 | 1 | 0.041 |  8 | 42 | 0.264 | 43 |  5486 |\n",
       "| 2017 | Abraham Almonte | Indians | Central | 195 | 3 | 0.103 | 20 | 46 | 0.233 | 34 |  5486 |\n",
       "| 2015 | Adam Moore      | Indians | Central |   4 | 0 | 0.000 |  0 |  2 | 0.250 |  1 |  9362 |\n",
       "| 2016 | Adam Moore      | Indians | Central |   5 | 0 | 0.000 |  0 |  4 | 0.000 |  1 |  9362 |\n",
       "| 2018 | Adam Plutko     | Indians | Central |   2 | 0 | 0.000 |  0 |  0 | 0.000 |  0 | 15846 |\n",
       "| 2018 | Adam Rosales    | Indians | Central |  21 | 1 | 0.048 |  1 |  5 | 0.211 |  7 |  9682 |\n",
       "\n"
      ],
      "text/plain": [
       "  year name            team    division PA  HR BBrate BB K  AVG   FB playerid\n",
       "1 2016 Abraham Almonte Indians Central  194 1  0.041   8 42 0.264 43  5486   \n",
       "2 2017 Abraham Almonte Indians Central  195 3  0.103  20 46 0.233 34  5486   \n",
       "3 2015 Adam Moore      Indians Central    4 0  0.000   0  2 0.250  1  9362   \n",
       "4 2016 Adam Moore      Indians Central    5 0  0.000   0  4 0.000  1  9362   \n",
       "5 2018 Adam Plutko     Indians Central    2 0  0.000   0  0 0.000  0 15846   \n",
       "6 2018 Adam Rosales    Indians Central   21 1  0.048   1  5 0.211  7  9682   "
      ]
     },
     "metadata": {},
     "output_type": "display_data"
    }
   ],
   "source": [
    "dat1 = mlb %>% mutate(BBrate = as.numeric(str_replace(BBrate, ' %', ''))/100) %>%\n",
    "    separate(BB_K, into = c(\"BB\", \"K\"), sep=\"/\", convert=TRUE)\n",
    "head(dat1)"
   ]
  },
  {
   "cell_type": "markdown",
   "metadata": {},
   "source": [
    "### Problem 1\n",
    "\n",
    "Calculate the HR per FB rate for each division team and year. Convert this to a wide dataset, so your variables should be `division`, `team`, and `2015`-`2018`, where values are the HR/FB rate. Note that you should ensure that `division` is still in the dataset.\n",
    "\n",
    "Create a variable called `increased`, which checks if the HR/FB rate was higher in 2018 than it was in 2015 for that team."
   ]
  },
  {
   "cell_type": "code",
   "execution_count": 7,
   "metadata": {},
   "outputs": [
    {
     "data": {
      "text/html": [
       "<table class=\"dataframe\">\n",
       "<caption>A tibble: 6 × 11</caption>\n",
       "<thead>\n",
       "\t<tr><th scope=col>year</th><th scope=col>name</th><th scope=col>team</th><th scope=col>division</th><th scope=col>PA</th><th scope=col>HR</th><th scope=col>BBrate</th><th scope=col>BB_K</th><th scope=col>AVG</th><th scope=col>FB</th><th scope=col>playerid</th></tr>\n",
       "\t<tr><th scope=col>&lt;dbl&gt;</th><th scope=col>&lt;chr&gt;</th><th scope=col>&lt;chr&gt;</th><th scope=col>&lt;chr&gt;</th><th scope=col>&lt;dbl&gt;</th><th scope=col>&lt;dbl&gt;</th><th scope=col>&lt;chr&gt;</th><th scope=col>&lt;chr&gt;</th><th scope=col>&lt;dbl&gt;</th><th scope=col>&lt;dbl&gt;</th><th scope=col>&lt;dbl&gt;</th></tr>\n",
       "</thead>\n",
       "<tbody>\n",
       "\t<tr><td>2016</td><td>Abraham Almonte</td><td>Indians</td><td>Central</td><td>194</td><td>1</td><td>4.1 % </td><td>8/42 </td><td>0.264</td><td>43</td><td> 5486</td></tr>\n",
       "\t<tr><td>2017</td><td>Abraham Almonte</td><td>Indians</td><td>Central</td><td>195</td><td>3</td><td>10.3 %</td><td>20/46</td><td>0.233</td><td>34</td><td> 5486</td></tr>\n",
       "\t<tr><td>2015</td><td>Adam Moore     </td><td>Indians</td><td>Central</td><td>  4</td><td>0</td><td>0.0 % </td><td>0/2  </td><td>0.250</td><td> 1</td><td> 9362</td></tr>\n",
       "\t<tr><td>2016</td><td>Adam Moore     </td><td>Indians</td><td>Central</td><td>  5</td><td>0</td><td>0.0 % </td><td>0/4  </td><td>0.000</td><td> 1</td><td> 9362</td></tr>\n",
       "\t<tr><td>2018</td><td>Adam Plutko    </td><td>Indians</td><td>Central</td><td>  2</td><td>0</td><td>0.0 % </td><td>0/0  </td><td>0.000</td><td> 0</td><td>15846</td></tr>\n",
       "\t<tr><td>2018</td><td>Adam Rosales   </td><td>Indians</td><td>Central</td><td> 21</td><td>1</td><td>4.8 % </td><td>1/5  </td><td>0.211</td><td> 7</td><td> 9682</td></tr>\n",
       "</tbody>\n",
       "</table>\n"
      ],
      "text/latex": [
       "A tibble: 6 × 11\n",
       "\\begin{tabular}{lllllllllll}\n",
       " year & name & team & division & PA & HR & BBrate & BB\\_K & AVG & FB & playerid\\\\\n",
       " <dbl> & <chr> & <chr> & <chr> & <dbl> & <dbl> & <chr> & <chr> & <dbl> & <dbl> & <dbl>\\\\\n",
       "\\hline\n",
       "\t 2016 & Abraham Almonte & Indians & Central & 194 & 1 & 4.1 \\%  & 8/42  & 0.264 & 43 &  5486\\\\\n",
       "\t 2017 & Abraham Almonte & Indians & Central & 195 & 3 & 10.3 \\% & 20/46 & 0.233 & 34 &  5486\\\\\n",
       "\t 2015 & Adam Moore      & Indians & Central &   4 & 0 & 0.0 \\%  & 0/2   & 0.250 &  1 &  9362\\\\\n",
       "\t 2016 & Adam Moore      & Indians & Central &   5 & 0 & 0.0 \\%  & 0/4   & 0.000 &  1 &  9362\\\\\n",
       "\t 2018 & Adam Plutko     & Indians & Central &   2 & 0 & 0.0 \\%  & 0/0   & 0.000 &  0 & 15846\\\\\n",
       "\t 2018 & Adam Rosales    & Indians & Central &  21 & 1 & 4.8 \\%  & 1/5   & 0.211 &  7 &  9682\\\\\n",
       "\\end{tabular}\n"
      ],
      "text/markdown": [
       "\n",
       "A tibble: 6 × 11\n",
       "\n",
       "| year &lt;dbl&gt; | name &lt;chr&gt; | team &lt;chr&gt; | division &lt;chr&gt; | PA &lt;dbl&gt; | HR &lt;dbl&gt; | BBrate &lt;chr&gt; | BB_K &lt;chr&gt; | AVG &lt;dbl&gt; | FB &lt;dbl&gt; | playerid &lt;dbl&gt; |\n",
       "|---|---|---|---|---|---|---|---|---|---|---|\n",
       "| 2016 | Abraham Almonte | Indians | Central | 194 | 1 | 4.1 %  | 8/42  | 0.264 | 43 |  5486 |\n",
       "| 2017 | Abraham Almonte | Indians | Central | 195 | 3 | 10.3 % | 20/46 | 0.233 | 34 |  5486 |\n",
       "| 2015 | Adam Moore      | Indians | Central |   4 | 0 | 0.0 %  | 0/2   | 0.250 |  1 |  9362 |\n",
       "| 2016 | Adam Moore      | Indians | Central |   5 | 0 | 0.0 %  | 0/4   | 0.000 |  1 |  9362 |\n",
       "| 2018 | Adam Plutko     | Indians | Central |   2 | 0 | 0.0 %  | 0/0   | 0.000 |  0 | 15846 |\n",
       "| 2018 | Adam Rosales    | Indians | Central |  21 | 1 | 4.8 %  | 1/5   | 0.211 |  7 |  9682 |\n",
       "\n"
      ],
      "text/plain": [
       "  year name            team    division PA  HR BBrate BB_K  AVG   FB playerid\n",
       "1 2016 Abraham Almonte Indians Central  194 1  4.1 %  8/42  0.264 43  5486   \n",
       "2 2017 Abraham Almonte Indians Central  195 3  10.3 % 20/46 0.233 34  5486   \n",
       "3 2015 Adam Moore      Indians Central    4 0  0.0 %  0/2   0.250  1  9362   \n",
       "4 2016 Adam Moore      Indians Central    5 0  0.0 %  0/4   0.000  1  9362   \n",
       "5 2018 Adam Plutko     Indians Central    2 0  0.0 %  0/0   0.000  0 15846   \n",
       "6 2018 Adam Rosales    Indians Central   21 1  4.8 %  1/5   0.211  7  9682   "
      ]
     },
     "metadata": {},
     "output_type": "display_data"
    }
   ],
   "source": [
    "dat2 = mlb\n",
    "\n",
    "head(dat2)"
   ]
  },
  {
   "cell_type": "markdown",
   "metadata": {},
   "source": [
    "### Problem 2\n",
    "\n",
    "Turn this back into a \"long\" dataset and create a plot of HR/FB rate on year. Create line graphs that summarize the data. Color them by `team`, facet it by `division`, and choose the linetype according to the `increased` variable."
   ]
  },
  {
   "cell_type": "code",
   "execution_count": null,
   "metadata": {},
   "outputs": [],
   "source": []
  },
  {
   "cell_type": "markdown",
   "metadata": {},
   "source": [
    "### Problem 3\n",
    "\n",
    "Go back to `mlb` and calculate total HRs and PAs per year per team. Create a wide version of this dataset. So there should be a `team` variable, then eight variables tracking values: `HR_2015`, `HR_2016`, `HR_2017`, `HR_2018`, `PA_2015`, `PA_2016`, `PA_2017`, and `PA_2018`.\n",
    "\n",
    "Hint: Once you calculate the values you can use a `gather`, `unite`, and `spread` in that order to create the wide version."
   ]
  },
  {
   "cell_type": "code",
   "execution_count": 8,
   "metadata": {},
   "outputs": [
    {
     "data": {
      "text/html": [
       "<table class=\"dataframe\">\n",
       "<caption>A tibble: 6 × 11</caption>\n",
       "<thead>\n",
       "\t<tr><th scope=col>year</th><th scope=col>name</th><th scope=col>team</th><th scope=col>division</th><th scope=col>PA</th><th scope=col>HR</th><th scope=col>BBrate</th><th scope=col>BB_K</th><th scope=col>AVG</th><th scope=col>FB</th><th scope=col>playerid</th></tr>\n",
       "\t<tr><th scope=col>&lt;dbl&gt;</th><th scope=col>&lt;chr&gt;</th><th scope=col>&lt;chr&gt;</th><th scope=col>&lt;chr&gt;</th><th scope=col>&lt;dbl&gt;</th><th scope=col>&lt;dbl&gt;</th><th scope=col>&lt;chr&gt;</th><th scope=col>&lt;chr&gt;</th><th scope=col>&lt;dbl&gt;</th><th scope=col>&lt;dbl&gt;</th><th scope=col>&lt;dbl&gt;</th></tr>\n",
       "</thead>\n",
       "<tbody>\n",
       "\t<tr><td>2016</td><td>Abraham Almonte</td><td>Indians</td><td>Central</td><td>194</td><td>1</td><td>4.1 % </td><td>8/42 </td><td>0.264</td><td>43</td><td> 5486</td></tr>\n",
       "\t<tr><td>2017</td><td>Abraham Almonte</td><td>Indians</td><td>Central</td><td>195</td><td>3</td><td>10.3 %</td><td>20/46</td><td>0.233</td><td>34</td><td> 5486</td></tr>\n",
       "\t<tr><td>2015</td><td>Adam Moore     </td><td>Indians</td><td>Central</td><td>  4</td><td>0</td><td>0.0 % </td><td>0/2  </td><td>0.250</td><td> 1</td><td> 9362</td></tr>\n",
       "\t<tr><td>2016</td><td>Adam Moore     </td><td>Indians</td><td>Central</td><td>  5</td><td>0</td><td>0.0 % </td><td>0/4  </td><td>0.000</td><td> 1</td><td> 9362</td></tr>\n",
       "\t<tr><td>2018</td><td>Adam Plutko    </td><td>Indians</td><td>Central</td><td>  2</td><td>0</td><td>0.0 % </td><td>0/0  </td><td>0.000</td><td> 0</td><td>15846</td></tr>\n",
       "\t<tr><td>2018</td><td>Adam Rosales   </td><td>Indians</td><td>Central</td><td> 21</td><td>1</td><td>4.8 % </td><td>1/5  </td><td>0.211</td><td> 7</td><td> 9682</td></tr>\n",
       "</tbody>\n",
       "</table>\n"
      ],
      "text/latex": [
       "A tibble: 6 × 11\n",
       "\\begin{tabular}{lllllllllll}\n",
       " year & name & team & division & PA & HR & BBrate & BB\\_K & AVG & FB & playerid\\\\\n",
       " <dbl> & <chr> & <chr> & <chr> & <dbl> & <dbl> & <chr> & <chr> & <dbl> & <dbl> & <dbl>\\\\\n",
       "\\hline\n",
       "\t 2016 & Abraham Almonte & Indians & Central & 194 & 1 & 4.1 \\%  & 8/42  & 0.264 & 43 &  5486\\\\\n",
       "\t 2017 & Abraham Almonte & Indians & Central & 195 & 3 & 10.3 \\% & 20/46 & 0.233 & 34 &  5486\\\\\n",
       "\t 2015 & Adam Moore      & Indians & Central &   4 & 0 & 0.0 \\%  & 0/2   & 0.250 &  1 &  9362\\\\\n",
       "\t 2016 & Adam Moore      & Indians & Central &   5 & 0 & 0.0 \\%  & 0/4   & 0.000 &  1 &  9362\\\\\n",
       "\t 2018 & Adam Plutko     & Indians & Central &   2 & 0 & 0.0 \\%  & 0/0   & 0.000 &  0 & 15846\\\\\n",
       "\t 2018 & Adam Rosales    & Indians & Central &  21 & 1 & 4.8 \\%  & 1/5   & 0.211 &  7 &  9682\\\\\n",
       "\\end{tabular}\n"
      ],
      "text/markdown": [
       "\n",
       "A tibble: 6 × 11\n",
       "\n",
       "| year &lt;dbl&gt; | name &lt;chr&gt; | team &lt;chr&gt; | division &lt;chr&gt; | PA &lt;dbl&gt; | HR &lt;dbl&gt; | BBrate &lt;chr&gt; | BB_K &lt;chr&gt; | AVG &lt;dbl&gt; | FB &lt;dbl&gt; | playerid &lt;dbl&gt; |\n",
       "|---|---|---|---|---|---|---|---|---|---|---|\n",
       "| 2016 | Abraham Almonte | Indians | Central | 194 | 1 | 4.1 %  | 8/42  | 0.264 | 43 |  5486 |\n",
       "| 2017 | Abraham Almonte | Indians | Central | 195 | 3 | 10.3 % | 20/46 | 0.233 | 34 |  5486 |\n",
       "| 2015 | Adam Moore      | Indians | Central |   4 | 0 | 0.0 %  | 0/2   | 0.250 |  1 |  9362 |\n",
       "| 2016 | Adam Moore      | Indians | Central |   5 | 0 | 0.0 %  | 0/4   | 0.000 |  1 |  9362 |\n",
       "| 2018 | Adam Plutko     | Indians | Central |   2 | 0 | 0.0 %  | 0/0   | 0.000 |  0 | 15846 |\n",
       "| 2018 | Adam Rosales    | Indians | Central |  21 | 1 | 4.8 %  | 1/5   | 0.211 |  7 |  9682 |\n",
       "\n"
      ],
      "text/plain": [
       "  year name            team    division PA  HR BBrate BB_K  AVG   FB playerid\n",
       "1 2016 Abraham Almonte Indians Central  194 1  4.1 %  8/42  0.264 43  5486   \n",
       "2 2017 Abraham Almonte Indians Central  195 3  10.3 % 20/46 0.233 34  5486   \n",
       "3 2015 Adam Moore      Indians Central    4 0  0.0 %  0/2   0.250  1  9362   \n",
       "4 2016 Adam Moore      Indians Central    5 0  0.0 %  0/4   0.000  1  9362   \n",
       "5 2018 Adam Plutko     Indians Central    2 0  0.0 %  0/0   0.000  0 15846   \n",
       "6 2018 Adam Rosales    Indians Central   21 1  4.8 %  1/5   0.211  7  9682   "
      ]
     },
     "metadata": {},
     "output_type": "display_data"
    }
   ],
   "source": [
    "dat3 = mlb \n",
    "\n",
    "head(dat3)"
   ]
  },
  {
   "cell_type": "markdown",
   "metadata": {},
   "source": [
    "## Midterm Review"
   ]
  },
  {
   "cell_type": "code",
   "execution_count": 9,
   "metadata": {},
   "outputs": [],
   "source": [
    "load(\"lab5.Rdata\")"
   ]
  },
  {
   "cell_type": "markdown",
   "metadata": {},
   "source": [
    "lab5.RData contains two data frames: listing, demo. Let's take a look. listing basically has all the info you would find on a rental page.\n",
    "Some demographic info by zipcode are in demo"
   ]
  },
  {
   "cell_type": "code",
   "execution_count": 10,
   "metadata": {},
   "outputs": [
    {
     "name": "stdout",
     "output_type": "stream",
     "text": [
      "Rows: 23,624\n",
      "Columns: 29\n",
      "$ accommodates                \u001b[3m\u001b[90m<dbl>\u001b[39m\u001b[23m 2, 2, 6, 1, 2, 2, 2, 2, 3, 1, 2, 4, 3, 4, ~\n",
      "$ amenities                   \u001b[3m\u001b[90m<chr>\u001b[39m\u001b[23m \"{}\", \"{\\\"Wireless Internet\\\",\\\"Air condit~\n",
      "$ availability_30             \u001b[3m\u001b[90m<int>\u001b[39m\u001b[23m 29, 18, 3, 0, 6, 22, 10, 0, 3, 20, 17, 27,~\n",
      "$ bathrooms                   \u001b[3m\u001b[90m<dbl>\u001b[39m\u001b[23m 1.0, 1.0, 1.0, 1.0, 1.0, NA, 1.5, 1.0, 2.0~\n",
      "$ bed_type                    \u001b[3m\u001b[90m<chr>\u001b[39m\u001b[23m \"Real Bed\", \"Real Bed\", \"Real Bed\", \"Real ~\n",
      "$ bedrooms                    \u001b[3m\u001b[90m<dbl>\u001b[39m\u001b[23m 1, 1, 1, 1, 1, 1, 1, 1, 1, 1, 1, 1, 1, 1, ~\n",
      "$ beds                        \u001b[3m\u001b[90m<dbl>\u001b[39m\u001b[23m 1, 1, 3, 1, 1, 1, 2, 1, 2, 1, 1, 1, 1, 2, ~\n",
      "$ cancellation_policy         \u001b[3m\u001b[90m<chr>\u001b[39m\u001b[23m \"flexible\", \"flexible\", \"flexible\", \"flexi~\n",
      "$ city                        \u001b[3m\u001b[90m<chr>\u001b[39m\u001b[23m \"palmdale\", \"acton\", \"acton\", \"los angeles~\n",
      "$ has_availability            \u001b[3m\u001b[90m<lgl>\u001b[39m\u001b[23m NA, NA, NA, NA, NA, NA, NA, NA, NA, NA, NA~\n",
      "$ host_id                     \u001b[3m\u001b[90m<int>\u001b[39m\u001b[23m 44800067, 84615808, 71743973, 41646908, 89~\n",
      "$ id                          \u001b[3m\u001b[90m<int>\u001b[39m\u001b[23m 8909380, 14078522, 13006928, 7898757, 1606~\n",
      "$ instant_bookable            \u001b[3m\u001b[90m<chr>\u001b[39m\u001b[23m \"f\", \"f\", \"t\", \"f\", \"f\", \"f\", \"f\", \"f\", \"f~\n",
      "$ latitude                    \u001b[3m\u001b[90m<dbl>\u001b[39m\u001b[23m 34.48543, 34.51013, 34.51549, 34.03142, 34~\n",
      "$ longitude                   \u001b[3m\u001b[90m<dbl>\u001b[39m\u001b[23m -118.1254, -118.2124, -118.2307, -118.2990~\n",
      "$ metropolitan                \u001b[3m\u001b[90m<chr>\u001b[39m\u001b[23m \"LA\", \"LA\", \"LA\", \"LA\", \"LA\", \"LA\", \"LA\", ~\n",
      "$ name                        \u001b[3m\u001b[90m<chr>\u001b[39m\u001b[23m \"Nice quiet private ranch house\", \"Room w/~\n",
      "$ price                       \u001b[3m\u001b[90m<dbl>\u001b[39m\u001b[23m 50, 55, 150, 30, 45, 56, 80, 120, 55, 50, ~\n",
      "$ property_type               \u001b[3m\u001b[90m<chr>\u001b[39m\u001b[23m \"House\", \"House\", \"Other\", \"Apartment\", \"H~\n",
      "$ review_scores_checkin       \u001b[3m\u001b[90m<dbl>\u001b[39m\u001b[23m 10, 10, 10, 10, 10, 9, 10, 10, 10, 9, 10, ~\n",
      "$ review_scores_cleanliness   \u001b[3m\u001b[90m<dbl>\u001b[39m\u001b[23m 10, 10, 10, 9, 10, 8, 10, 10, 9, 9, 10, 7,~\n",
      "$ review_scores_communication \u001b[3m\u001b[90m<dbl>\u001b[39m\u001b[23m 10, 10, 10, 10, 10, 9, 10, 10, 10, 9, 10, ~\n",
      "$ review_scores_location      \u001b[3m\u001b[90m<dbl>\u001b[39m\u001b[23m 9, 10, 10, 9, 10, 8, 9, 9, 9, 8, 9, 7, 10,~\n",
      "$ review_scores_rating        \u001b[3m\u001b[90m<dbl>\u001b[39m\u001b[23m 93, 100, 100, 93, 98, 89, 99, 99, 92, 89, ~\n",
      "$ review_scores_value         \u001b[3m\u001b[90m<dbl>\u001b[39m\u001b[23m 9, 10, 10, 10, 10, 9, 10, 10, 9, 9, 10, 8,~\n",
      "$ room_type                   \u001b[3m\u001b[90m<chr>\u001b[39m\u001b[23m \"Private room\", \"Private room\", \"Entire ho~\n",
      "$ state                       \u001b[3m\u001b[90m<chr>\u001b[39m\u001b[23m \"CA\", \"CA\", \"CA\", \"CA\", \"CA\", \"CA\", \"CA\", ~\n",
      "$ weekly_price                \u001b[3m\u001b[90m<chr>\u001b[39m\u001b[23m \"\", \"\", \"\", \"\", \"\", \"$320.00\", \"$500.00\", ~\n",
      "$ zipcode                     \u001b[3m\u001b[90m<chr>\u001b[39m\u001b[23m \"93550\", \"93510\", \"93510\", \"90007\", \"90007~\n"
     ]
    }
   ],
   "source": [
    "listing %>% glimpse()"
   ]
  },
  {
   "cell_type": "code",
   "execution_count": 11,
   "metadata": {},
   "outputs": [
    {
     "data": {
      "text/html": [
       "<table class=\"dataframe\">\n",
       "<caption>A data.frame: 6 × 4</caption>\n",
       "<thead>\n",
       "\t<tr><th></th><th scope=col>zipcode</th><th scope=col>population</th><th scope=col>median_household_income</th><th scope=col>mean_household_income</th></tr>\n",
       "\t<tr><th></th><th scope=col>&lt;chr&gt;</th><th scope=col>&lt;int&gt;</th><th scope=col>&lt;chr&gt;</th><th scope=col>&lt;chr&gt;</th></tr>\n",
       "</thead>\n",
       "<tbody>\n",
       "\t<tr><th scope=row>1</th><td>601</td><td>17982</td><td>10816</td><td>20349</td></tr>\n",
       "\t<tr><th scope=row>2</th><td>602</td><td>40260</td><td>16079</td><td>23282</td></tr>\n",
       "\t<tr><th scope=row>3</th><td>603</td><td>52408</td><td>16804</td><td>26820</td></tr>\n",
       "\t<tr><th scope=row>4</th><td>606</td><td> 6331</td><td>12512</td><td>15730</td></tr>\n",
       "\t<tr><th scope=row>5</th><td>610</td><td>28328</td><td>17475</td><td>23360</td></tr>\n",
       "\t<tr><th scope=row>6</th><td>612</td><td>64816</td><td>17229</td><td>25590</td></tr>\n",
       "</tbody>\n",
       "</table>\n"
      ],
      "text/latex": [
       "A data.frame: 6 × 4\n",
       "\\begin{tabular}{r|llll}\n",
       "  & zipcode & population & median\\_household\\_income & mean\\_household\\_income\\\\\n",
       "  & <chr> & <int> & <chr> & <chr>\\\\\n",
       "\\hline\n",
       "\t1 & 601 & 17982 & 10816 & 20349\\\\\n",
       "\t2 & 602 & 40260 & 16079 & 23282\\\\\n",
       "\t3 & 603 & 52408 & 16804 & 26820\\\\\n",
       "\t4 & 606 &  6331 & 12512 & 15730\\\\\n",
       "\t5 & 610 & 28328 & 17475 & 23360\\\\\n",
       "\t6 & 612 & 64816 & 17229 & 25590\\\\\n",
       "\\end{tabular}\n"
      ],
      "text/markdown": [
       "\n",
       "A data.frame: 6 × 4\n",
       "\n",
       "| <!--/--> | zipcode &lt;chr&gt; | population &lt;int&gt; | median_household_income &lt;chr&gt; | mean_household_income &lt;chr&gt; |\n",
       "|---|---|---|---|---|\n",
       "| 1 | 601 | 17982 | 10816 | 20349 |\n",
       "| 2 | 602 | 40260 | 16079 | 23282 |\n",
       "| 3 | 603 | 52408 | 16804 | 26820 |\n",
       "| 4 | 606 |  6331 | 12512 | 15730 |\n",
       "| 5 | 610 | 28328 | 17475 | 23360 |\n",
       "| 6 | 612 | 64816 | 17229 | 25590 |\n",
       "\n"
      ],
      "text/plain": [
       "  zipcode population median_household_income mean_household_income\n",
       "1 601     17982      10816                   20349                \n",
       "2 602     40260      16079                   23282                \n",
       "3 603     52408      16804                   26820                \n",
       "4 606      6331      12512                   15730                \n",
       "5 610     28328      17475                   23360                \n",
       "6 612     64816      17229                   25590                "
      ]
     },
     "metadata": {},
     "output_type": "display_data"
    }
   ],
   "source": [
    "demo %>% head()"
   ]
  },
  {
   "cell_type": "markdown",
   "metadata": {},
   "source": [
    "### Goal: \n",
    "Airbnb is meant for home sharing, but there are hosts with more than 20 listings. This is more like commercial hotels without regulation than home sharing. We would like to identify such users and see what their impact is on the airbnb ecosystem.\n",
    "### Step 1:\n",
    "host_id is a unique identifier for host. id is a unique identifier for listing. Construct a table where for each host_id, we have the number of unique ids, and the mean review_scores_value for that host_id. Call this table tb1. Name the 3 resulting columns host_id, nid, and mean_review. Arrange it by number of id's"
   ]
  },
  {
   "cell_type": "code",
   "execution_count": null,
   "metadata": {},
   "outputs": [],
   "source": []
  },
  {
   "cell_type": "markdown",
   "metadata": {},
   "source": [
    "### Step 2:\n",
    "\n",
    "a) Create a sequence of box plots, where the x axis is nid, and y axis is mean_review. \n",
    " \n"
   ]
  },
  {
   "cell_type": "code",
   "execution_count": null,
   "metadata": {},
   "outputs": [],
   "source": []
  },
  {
   "cell_type": "markdown",
   "metadata": {},
   "source": [
    "b) Create a scatter plot of mean_review vs nid, add a smooth fitted line."
   ]
  },
  {
   "cell_type": "code",
   "execution_count": null,
   "metadata": {},
   "outputs": [],
   "source": []
  },
  {
   "cell_type": "markdown",
   "metadata": {},
   "source": [
    "What do you see? If you have made both, what are the things that you can pick off from one plot but not the other?"
   ]
  },
  {
   "cell_type": "markdown",
   "metadata": {},
   "source": [
    "### Step 3:\n",
    "Let's define commercial hosts to be hosts with >= 5 listings. Create a column in listing indicating if this row has a commercial host. (hint: you need to merge tables for this, at least I needed)"
   ]
  },
  {
   "cell_type": "code",
   "execution_count": null,
   "metadata": {},
   "outputs": [],
   "source": []
  },
  {
   "cell_type": "markdown",
   "metadata": {},
   "source": [
    "### Step 4:\n",
    "In listing, find for each zipcode, the total number of listings, the number of commercial listings (any listing by a commercial host is a commercial listing), and the mean price of all listings; retain only rows with more than 25 listings. Name this table tb3, name four columns zipcode, nlist, ncomlist, and mp."
   ]
  },
  {
   "cell_type": "code",
   "execution_count": null,
   "metadata": {},
   "outputs": [],
   "source": []
  },
  {
   "cell_type": "markdown",
   "metadata": {},
   "source": [
    "### Step 5:\n",
    "In tb3, add a column of boolean value indicating if this zipcode is \"commercial heavy\". We define commercial heavy as the number commercial listings exceeding 20% of the total amount of listings. Name the result tb4."
   ]
  },
  {
   "cell_type": "code",
   "execution_count": null,
   "metadata": {},
   "outputs": [],
   "source": []
  },
  {
   "cell_type": "code",
   "execution_count": null,
   "metadata": {},
   "outputs": [],
   "source": []
  }
 ],
 "metadata": {
  "kernelspec": {
   "display_name": "R",
   "language": "R",
   "name": "ir"
  },
  "language_info": {
   "codemirror_mode": "r",
   "file_extension": ".r",
   "mimetype": "text/x-r-source",
   "name": "R",
   "pygments_lexer": "r",
   "version": "4.0.4"
  }
 },
 "nbformat": 4,
 "nbformat_minor": 2
}
